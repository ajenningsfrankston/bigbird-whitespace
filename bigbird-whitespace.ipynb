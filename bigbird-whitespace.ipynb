{
 "cells": [
  {
   "cell_type": "markdown",
   "id": "cae73931",
   "metadata": {
    "papermill": {
     "duration": 0.029545,
     "end_time": "2022-02-14T05:16:49.970038",
     "exception": false,
     "start_time": "2022-02-14T05:16:49.940493",
     "status": "completed"
    },
    "tags": []
   },
   "source": [
    "# PyTorch BigBird with Whitespace\n",
    "\n",
    "I have added spelling correction. \n",
    "\n",
    "\n",
    "Notes from original notebook:\n",
    "\n",
    "I modfied Chris Deotte's notebook to feed whitespace to the BigBird model. This allows the model to have more contextual information like paragraph start/end.\n",
    "\n",
    "Original Notebook - https://www.kaggle.com/cdeotte/pytorch-bigbird-ner-cv-0-615\n",
    "\n",
    "This notebook is a PyTorch starter notebook for Kaggle's \"Feedback Prize - Evaluating Student Writing\" Competition. It demonstrates how to train, infer, and submit a model to Kaggle without internet. Currently this notebook uses\n",
    "\n",
    "* backbone BigBird  (with HuggingFace's head for TokenClassification)\n",
    "* NER formulation (with `is_split_into_words=False` tokenization)\n",
    "* one fold\n",
    "\n",
    "By changing a few lines of code, we can use this notebook to evaluate different PyTorch backbones! And we can run all sorts of other experiments. If we try a backbone that doesn't accept 1024 wide tokens (like BigBird or LongFormer), then we can add a sliding window to train and inference. BigBird is a new SOTA transformer with arXiv paper [here][3] which can accept large token inputs as wide as 4096!\n",
    "\n",
    "The model in this notebook uses HuggingFace's `AutoModelForTokenClassification`. If we want a custom head, we could use `AutoModel` and then build our own head. See my TensorFlow notebook [here][2] for an example.\n",
    "\n",
    "This notebook uses many code cells from Raghavendrakotala's great notebook [here][1]. Don't forget to upvote Raghavendrakotala's notebook :-)\n",
    "\n",
    "[1]: https://www.kaggle.com/raghavendrakotala/fine-tunned-on-roberta-base-as-ner-problem-0-533\n",
    "[2]: https://www.kaggle.com/cdeotte/tensorflow-longformer-ner-cv-0-617\n",
    "[3]: https://arxiv.org/abs/2007.14062"
   ]
  },
  {
   "cell_type": "code",
   "execution_count": 1,
   "id": "837da2d3",
   "metadata": {
    "execution": {
     "iopub.execute_input": "2022-02-14T05:16:50.033085Z",
     "iopub.status.busy": "2022-02-14T05:16:50.031615Z",
     "iopub.status.idle": "2022-02-14T05:16:50.049817Z",
     "shell.execute_reply": "2022-02-14T05:16:50.049133Z",
     "shell.execute_reply.started": "2022-02-14T04:05:44.347283Z"
    },
    "papermill": {
     "duration": 0.050372,
     "end_time": "2022-02-14T05:16:50.049977",
     "exception": false,
     "start_time": "2022-02-14T05:16:49.999605",
     "status": "completed"
    },
    "tags": []
   },
   "outputs": [],
   "source": [
    "#detect where we are running and adjust accordingly \n",
    "\n",
    "on_kaggle = False\n",
    "\n",
    "import os\n",
    "\n",
    "if os.environ.get('PWD') == '/kaggle/working':\n",
    "    on_kaggle = True\n",
    "    \n",
    "if not on_kaggle: \n",
    "    !pip install kaggle\n",
    "    import zipfile\n",
    "\n",
    "    !kaggle competitions download -c feedback-prize-2021 -p ../input/feedback-prize-2021\n",
    "\n",
    "    !kaggle datasets download -d cdeotte/py-bigbird-v26 -p ../input/py-bigbird-v26\n",
    "\n",
    "    with zipfile.ZipFile('../input/feedback-prize-2021/feedback-prize-2021.zip','r') as myzip:\n",
    "        myzip.extractall('../input/feedback-prize-2021')\n",
    "\n",
    "    with zipfile.ZipFile('../input/py-bigbird-v26/py-bigbird-v26.zip','r') as myzip:\n",
    "        myzip.extractall('../input/py-bigbird-v26')"
   ]
  },
  {
   "cell_type": "markdown",
   "id": "8d9c425b",
   "metadata": {
    "papermill": {
     "duration": 0.035683,
     "end_time": "2022-02-14T05:16:50.114079",
     "exception": false,
     "start_time": "2022-02-14T05:16:50.078396",
     "status": "completed"
    },
    "tags": []
   },
   "source": [
    "# Configuration\n",
    "This notebook can either train a new model or load a previously trained model (made from previous notebook version). Furthermore, this notebook can either create new NER labels or load existing NER labels (made from previous notebook version). In this notebook version, we will load model and load NER labels.\n",
    "\n",
    "Also this notebook can load huggingface stuff (like tokenizers) from a Kaggle dataset, or download it from internet. (If it downloads from internet, you can then put it in a Kaggle dataset, so next time you can turn internet off)."
   ]
  },
  {
   "cell_type": "code",
   "execution_count": 2,
   "id": "4ed93df7",
   "metadata": {
    "execution": {
     "iopub.execute_input": "2022-02-14T05:16:50.207886Z",
     "iopub.status.busy": "2022-02-14T05:16:50.206977Z",
     "iopub.status.idle": "2022-02-14T05:16:50.208653Z",
     "shell.execute_reply": "2022-02-14T05:16:50.209192Z",
     "shell.execute_reply.started": "2022-02-14T04:06:02.493152Z"
    },
    "papermill": {
     "duration": 0.044705,
     "end_time": "2022-02-14T05:16:50.209330",
     "exception": false,
     "start_time": "2022-02-14T05:16:50.164625",
     "status": "completed"
    },
    "tags": []
   },
   "outputs": [],
   "source": [
    "if not on_kaggle:\n",
    "    !pip install sentencepiece\n",
    "    !pip install transformers"
   ]
  },
  {
   "cell_type": "code",
   "execution_count": 3,
   "id": "e66900be",
   "metadata": {
    "execution": {
     "iopub.execute_input": "2022-02-14T05:16:50.274760Z",
     "iopub.status.busy": "2022-02-14T05:16:50.274018Z",
     "iopub.status.idle": "2022-02-14T05:16:50.277016Z",
     "shell.execute_reply": "2022-02-14T05:16:50.276537Z",
     "shell.execute_reply.started": "2022-02-14T04:06:06.936862Z"
    },
    "papermill": {
     "duration": 0.037856,
     "end_time": "2022-02-14T05:16:50.277136",
     "exception": false,
     "start_time": "2022-02-14T05:16:50.239280",
     "status": "completed"
    },
    "tags": []
   },
   "outputs": [],
   "source": [
    "import os\n",
    "# DECLARE HOW MANY GPUS YOU WISH TO USE. \n",
    "# KAGGLE ONLY HAS 1, BUT OFFLINE, YOU CAN USE MORE\n",
    "os.environ[\"CUDA_VISIBLE_DEVICES\"]=\"0\" #0,1,2,3 for four gpu\n",
    "\n",
    "# VERSION FOR SAVING MODEL WEIGHTS\n",
    "VER=27\n",
    "\n",
    "# IF VARIABLE IS NONE, THEN NOTEBOOK COMPUTES TOKENS\n",
    "# OTHERWISE NOTEBOOK LOADS TOKENS FROM PATH\n",
    "LOAD_TOKENS_FROM = '../input/py-bigbird-v26'\n",
    "\n",
    "# IF VARIABLE IS NONE, THEN NOTEBOOK TRAINS A NEW MODEL\n",
    "# OTHERWISE IT LOADS YOUR PREVIOUSLY TRAINED MODEL\n",
    "LOAD_MODEL_FROM = None\n",
    "\n",
    "# IF FOLLOWING IS NONE, THEN NOTEBOOK \n",
    "# USES INTERNET AND DOWNLOADS HUGGINGFACE \n",
    "# CONFIG, TOKENIZER, AND MODEL\n",
    "DOWNLOADED_MODEL_PATH = None\n",
    "if DOWNLOADED_MODEL_PATH is None:\n",
    "    DOWNLOADED_MODEL_PATH = 'model'    \n",
    "MODEL_NAME = 'google/bigbird-roberta-base'"
   ]
  },
  {
   "cell_type": "code",
   "execution_count": 4,
   "id": "1a2acf2b",
   "metadata": {
    "execution": {
     "iopub.execute_input": "2022-02-14T05:16:50.338525Z",
     "iopub.status.busy": "2022-02-14T05:16:50.337988Z",
     "iopub.status.idle": "2022-02-14T05:16:51.804287Z",
     "shell.execute_reply": "2022-02-14T05:16:51.803616Z",
     "shell.execute_reply.started": "2022-02-14T04:06:15.059344Z"
    },
    "papermill": {
     "duration": 1.499146,
     "end_time": "2022-02-14T05:16:51.804430",
     "exception": false,
     "start_time": "2022-02-14T05:16:50.305284",
     "status": "completed"
    },
    "tags": []
   },
   "outputs": [],
   "source": [
    "from torch import cuda\n",
    "config = {'model_name': MODEL_NAME,   \n",
    "         'max_length': 1024,\n",
    "         'train_batch_size':4,\n",
    "         'valid_batch_size':4,\n",
    "         'epochs':5,\n",
    "         'learning_rates': [2.5e-5, 2.5e-5, 2.5e-6, 2.5e-6, 2.5e-7],\n",
    "         'max_grad_norm':10,\n",
    "         'device': 'cuda' if cuda.is_available() else 'cpu'}\n",
    "\n",
    "# THIS WILL COMPUTE VAL SCORE DURING COMMIT BUT NOT DURING SUBMIT\n",
    "COMPUTE_VAL_SCORE = True\n",
    "if len( os.listdir('../input/feedback-prize-2021/test') )>5:\n",
    "      COMPUTE_VAL_SCORE = False"
   ]
  },
  {
   "cell_type": "markdown",
   "id": "769c0808",
   "metadata": {
    "papermill": {
     "duration": 0.027741,
     "end_time": "2022-02-14T05:16:51.860772",
     "exception": false,
     "start_time": "2022-02-14T05:16:51.833031",
     "status": "completed"
    },
    "tags": []
   },
   "source": [
    "# How To Submit PyTorch Without Internet\n",
    "Many people ask me, how do I submit PyTorch models without internet? With HuggingFace Transformer, it's easy. Just download the following 3 things (1) model weights, (2) tokenizer files, (3) config file, and upload them to a Kaggle dataset. Below shows code how to get the files from HuggingFace for Google's BigBird-base. But this same code can download any transformer, like for example roberta-base."
   ]
  },
  {
   "cell_type": "code",
   "execution_count": 5,
   "id": "5e6aafe5",
   "metadata": {
    "execution": {
     "iopub.execute_input": "2022-02-14T05:16:51.923216Z",
     "iopub.status.busy": "2022-02-14T05:16:51.922497Z",
     "iopub.status.idle": "2022-02-14T05:17:26.039715Z",
     "shell.execute_reply": "2022-02-14T05:17:26.040223Z",
     "shell.execute_reply.started": "2022-02-14T04:06:23.283886Z"
    },
    "papermill": {
     "duration": 34.1513,
     "end_time": "2022-02-14T05:17:26.040382",
     "exception": false,
     "start_time": "2022-02-14T05:16:51.889082",
     "status": "completed"
    },
    "tags": []
   },
   "outputs": [
    {
     "data": {
      "application/vnd.jupyter.widget-view+json": {
       "model_id": "17bc73499a2c4bf09d9a8fdbfb9a8778",
       "version_major": 2,
       "version_minor": 0
      },
      "text/plain": [
       "Downloading:   0%|          | 0.00/0.99k [00:00<?, ?B/s]"
      ]
     },
     "metadata": {},
     "output_type": "display_data"
    },
    {
     "data": {
      "application/vnd.jupyter.widget-view+json": {
       "model_id": "203d4ea227104a3a84b8b563319284a9",
       "version_major": 2,
       "version_minor": 0
      },
      "text/plain": [
       "Downloading:   0%|          | 0.00/760 [00:00<?, ?B/s]"
      ]
     },
     "metadata": {},
     "output_type": "display_data"
    },
    {
     "data": {
      "application/vnd.jupyter.widget-view+json": {
       "model_id": "63d3dbaf3ac94d5385c62ecfd3b811c3",
       "version_major": 2,
       "version_minor": 0
      },
      "text/plain": [
       "Downloading:   0%|          | 0.00/826k [00:00<?, ?B/s]"
      ]
     },
     "metadata": {},
     "output_type": "display_data"
    },
    {
     "data": {
      "application/vnd.jupyter.widget-view+json": {
       "model_id": "f38b7b8416c64a558607ca68cc5ed4be",
       "version_major": 2,
       "version_minor": 0
      },
      "text/plain": [
       "Downloading:   0%|          | 0.00/775 [00:00<?, ?B/s]"
      ]
     },
     "metadata": {},
     "output_type": "display_data"
    },
    {
     "name": "stderr",
     "output_type": "stream",
     "text": [
      "normalizer.cc(51) LOG(INFO) precompiled_charsmap is empty. use identity normalization.\n"
     ]
    },
    {
     "data": {
      "application/vnd.jupyter.widget-view+json": {
       "model_id": "e7af8ca5bddc49c69bfe69265ec829a4",
       "version_major": 2,
       "version_minor": 0
      },
      "text/plain": [
       "Downloading:   0%|          | 0.00/489M [00:00<?, ?B/s]"
      ]
     },
     "metadata": {},
     "output_type": "display_data"
    },
    {
     "name": "stderr",
     "output_type": "stream",
     "text": [
      "Some weights of the model checkpoint at google/bigbird-roberta-base were not used when initializing BigBirdForTokenClassification: ['cls.predictions.bias', 'cls.predictions.decoder.weight', 'cls.predictions.transform.LayerNorm.weight', 'cls.predictions.transform.dense.bias', 'cls.predictions.transform.dense.weight', 'cls.seq_relationship.bias', 'cls.predictions.transform.LayerNorm.bias', 'cls.predictions.decoder.bias', 'cls.seq_relationship.weight']\n",
      "- This IS expected if you are initializing BigBirdForTokenClassification from the checkpoint of a model trained on another task or with another architecture (e.g. initializing a BertForSequenceClassification model from a BertForPreTraining model).\n",
      "- This IS NOT expected if you are initializing BigBirdForTokenClassification from the checkpoint of a model that you expect to be exactly identical (initializing a BertForSequenceClassification model from a BertForSequenceClassification model).\n",
      "Some weights of BigBirdForTokenClassification were not initialized from the model checkpoint at google/bigbird-roberta-base and are newly initialized: ['classifier.bias', 'classifier.weight']\n",
      "You should probably TRAIN this model on a down-stream task to be able to use it for predictions and inference.\n"
     ]
    }
   ],
   "source": [
    "from transformers import AutoTokenizer, AutoConfig,  AutoModelForTokenClassification\n",
    "if DOWNLOADED_MODEL_PATH == 'model':\n",
    "    os.mkdir('model')\n",
    "    \n",
    "    tokenizer = AutoTokenizer.from_pretrained(MODEL_NAME, add_prefix_space=True)\n",
    "    tokenizer.save_pretrained('model')\n",
    "\n",
    "    config_model = AutoConfig.from_pretrained(MODEL_NAME) \n",
    "    config_model.num_labels = 15\n",
    "    config_model.save_pretrained('model')\n",
    "\n",
    "    backbone = AutoModelForTokenClassification.from_pretrained(MODEL_NAME, \n",
    "                                                               config=config_model)\n",
    "    backbone.save_pretrained('model')"
   ]
  },
  {
   "cell_type": "markdown",
   "id": "6f1de717",
   "metadata": {
    "papermill": {
     "duration": 0.030443,
     "end_time": "2022-02-14T05:17:26.101564",
     "exception": false,
     "start_time": "2022-02-14T05:17:26.071121",
     "status": "completed"
    },
    "tags": []
   },
   "source": [
    "# Load Data and Libraries\n",
    "In addition to loading the train dataframe, we will load all the train and text files and save them in a dataframe."
   ]
  },
  {
   "cell_type": "code",
   "execution_count": 6,
   "id": "3b9cacb2",
   "metadata": {
    "_cell_guid": "b1076dfc-b9ad-4769-8c92-a6c4dae69d19",
    "_uuid": "8f2839f25d086af736a60e9eeb907d3b93b6e0e5",
    "execution": {
     "iopub.execute_input": "2022-02-14T05:17:26.169261Z",
     "iopub.status.busy": "2022-02-14T05:17:26.168582Z",
     "iopub.status.idle": "2022-02-14T05:17:26.749135Z",
     "shell.execute_reply": "2022-02-14T05:17:26.748610Z",
     "shell.execute_reply.started": "2022-02-14T04:06:56.258211Z"
    },
    "papermill": {
     "duration": 0.617306,
     "end_time": "2022-02-14T05:17:26.749268",
     "exception": false,
     "start_time": "2022-02-14T05:17:26.131962",
     "status": "completed"
    },
    "tags": []
   },
   "outputs": [],
   "source": [
    "import numpy as np, os \n",
    "from scipy import stats\n",
    "import pandas as pd, gc \n",
    "from tqdm import tqdm\n",
    "\n",
    "if not on_kaggle:\n",
    "    !pip install sklearn\n",
    "\n",
    "from transformers import AutoTokenizer, AutoModelForTokenClassification\n",
    "from torch.utils.data import Dataset, DataLoader\n",
    "import torch\n",
    "from sklearn.metrics import accuracy_score"
   ]
  },
  {
   "cell_type": "code",
   "execution_count": 7,
   "id": "0adff696",
   "metadata": {
    "execution": {
     "iopub.execute_input": "2022-02-14T05:17:26.817198Z",
     "iopub.status.busy": "2022-02-14T05:17:26.816585Z",
     "iopub.status.idle": "2022-02-14T05:17:28.322830Z",
     "shell.execute_reply": "2022-02-14T05:17:28.323301Z",
     "shell.execute_reply.started": "2022-02-14T04:07:00.792014Z"
    },
    "papermill": {
     "duration": 1.542897,
     "end_time": "2022-02-14T05:17:28.323456",
     "exception": false,
     "start_time": "2022-02-14T05:17:26.780559",
     "status": "completed"
    },
    "tags": []
   },
   "outputs": [
    {
     "name": "stdout",
     "output_type": "stream",
     "text": [
      "(144293, 8)\n"
     ]
    },
    {
     "data": {
      "text/html": [
       "<div>\n",
       "<style scoped>\n",
       "    .dataframe tbody tr th:only-of-type {\n",
       "        vertical-align: middle;\n",
       "    }\n",
       "\n",
       "    .dataframe tbody tr th {\n",
       "        vertical-align: top;\n",
       "    }\n",
       "\n",
       "    .dataframe thead th {\n",
       "        text-align: right;\n",
       "    }\n",
       "</style>\n",
       "<table border=\"1\" class=\"dataframe\">\n",
       "  <thead>\n",
       "    <tr style=\"text-align: right;\">\n",
       "      <th></th>\n",
       "      <th>id</th>\n",
       "      <th>discourse_id</th>\n",
       "      <th>discourse_start</th>\n",
       "      <th>discourse_end</th>\n",
       "      <th>discourse_text</th>\n",
       "      <th>discourse_type</th>\n",
       "      <th>discourse_type_num</th>\n",
       "      <th>predictionstring</th>\n",
       "    </tr>\n",
       "  </thead>\n",
       "  <tbody>\n",
       "    <tr>\n",
       "      <th>0</th>\n",
       "      <td>423A1CA112E2</td>\n",
       "      <td>1.622628e+12</td>\n",
       "      <td>8.0</td>\n",
       "      <td>229.0</td>\n",
       "      <td>Modern humans today are always on their phone....</td>\n",
       "      <td>Lead</td>\n",
       "      <td>Lead 1</td>\n",
       "      <td>1 2 3 4 5 6 7 8 9 10 11 12 13 14 15 16 17 18 1...</td>\n",
       "    </tr>\n",
       "    <tr>\n",
       "      <th>1</th>\n",
       "      <td>423A1CA112E2</td>\n",
       "      <td>1.622628e+12</td>\n",
       "      <td>230.0</td>\n",
       "      <td>312.0</td>\n",
       "      <td>They are some really bad consequences when stu...</td>\n",
       "      <td>Position</td>\n",
       "      <td>Position 1</td>\n",
       "      <td>45 46 47 48 49 50 51 52 53 54 55 56 57 58 59</td>\n",
       "    </tr>\n",
       "    <tr>\n",
       "      <th>2</th>\n",
       "      <td>423A1CA112E2</td>\n",
       "      <td>1.622628e+12</td>\n",
       "      <td>313.0</td>\n",
       "      <td>401.0</td>\n",
       "      <td>Some certain areas in the United States ban ph...</td>\n",
       "      <td>Evidence</td>\n",
       "      <td>Evidence 1</td>\n",
       "      <td>60 61 62 63 64 65 66 67 68 69 70 71 72 73 74 75</td>\n",
       "    </tr>\n",
       "    <tr>\n",
       "      <th>3</th>\n",
       "      <td>423A1CA112E2</td>\n",
       "      <td>1.622628e+12</td>\n",
       "      <td>402.0</td>\n",
       "      <td>758.0</td>\n",
       "      <td>When people have phones, they know about certa...</td>\n",
       "      <td>Evidence</td>\n",
       "      <td>Evidence 2</td>\n",
       "      <td>76 77 78 79 80 81 82 83 84 85 86 87 88 89 90 9...</td>\n",
       "    </tr>\n",
       "    <tr>\n",
       "      <th>4</th>\n",
       "      <td>423A1CA112E2</td>\n",
       "      <td>1.622628e+12</td>\n",
       "      <td>759.0</td>\n",
       "      <td>886.0</td>\n",
       "      <td>Driving is one of the way how to get around. P...</td>\n",
       "      <td>Claim</td>\n",
       "      <td>Claim 1</td>\n",
       "      <td>139 140 141 142 143 144 145 146 147 148 149 15...</td>\n",
       "    </tr>\n",
       "  </tbody>\n",
       "</table>\n",
       "</div>"
      ],
      "text/plain": [
       "             id  discourse_id  discourse_start  discourse_end  \\\n",
       "0  423A1CA112E2  1.622628e+12              8.0          229.0   \n",
       "1  423A1CA112E2  1.622628e+12            230.0          312.0   \n",
       "2  423A1CA112E2  1.622628e+12            313.0          401.0   \n",
       "3  423A1CA112E2  1.622628e+12            402.0          758.0   \n",
       "4  423A1CA112E2  1.622628e+12            759.0          886.0   \n",
       "\n",
       "                                      discourse_text discourse_type  \\\n",
       "0  Modern humans today are always on their phone....           Lead   \n",
       "1  They are some really bad consequences when stu...       Position   \n",
       "2  Some certain areas in the United States ban ph...       Evidence   \n",
       "3  When people have phones, they know about certa...       Evidence   \n",
       "4  Driving is one of the way how to get around. P...          Claim   \n",
       "\n",
       "  discourse_type_num                                   predictionstring  \n",
       "0             Lead 1  1 2 3 4 5 6 7 8 9 10 11 12 13 14 15 16 17 18 1...  \n",
       "1         Position 1       45 46 47 48 49 50 51 52 53 54 55 56 57 58 59  \n",
       "2         Evidence 1    60 61 62 63 64 65 66 67 68 69 70 71 72 73 74 75  \n",
       "3         Evidence 2  76 77 78 79 80 81 82 83 84 85 86 87 88 89 90 9...  \n",
       "4            Claim 1  139 140 141 142 143 144 145 146 147 148 149 15...  "
      ]
     },
     "execution_count": 7,
     "metadata": {},
     "output_type": "execute_result"
    }
   ],
   "source": [
    "train_df = pd.read_csv('../input/feedback-prize-2021/train.csv')\n",
    "print( train_df.shape )\n",
    "train_df.head()"
   ]
  },
  {
   "cell_type": "code",
   "execution_count": 8,
   "id": "9e4afbc7",
   "metadata": {
    "execution": {
     "iopub.execute_input": "2022-02-14T05:17:28.424600Z",
     "iopub.status.busy": "2022-02-14T05:17:28.420819Z",
     "iopub.status.idle": "2022-02-14T05:17:41.435842Z",
     "shell.execute_reply": "2022-02-14T05:17:41.435262Z",
     "shell.execute_reply.started": "2022-02-14T04:07:06.397463Z"
    },
    "papermill": {
     "duration": 13.076735,
     "end_time": "2022-02-14T05:17:41.436051",
     "exception": false,
     "start_time": "2022-02-14T05:17:28.359316",
     "status": "completed"
    },
    "tags": []
   },
   "outputs": [
    {
     "name": "stdout",
     "output_type": "stream",
     "text": [
      "Collecting autocorrect\r\n",
      "  Downloading autocorrect-2.6.1.tar.gz (622 kB)\r\n",
      "     |████████████████████████████████| 622 kB 568 kB/s            \r\n",
      "\u001b[?25h  Preparing metadata (setup.py) ... \u001b[?25l-\b \bdone\r\n",
      "\u001b[?25hBuilding wheels for collected packages: autocorrect\r\n",
      "  Building wheel for autocorrect (setup.py) ... \u001b[?25l-\b \b\\\b \bdone\r\n",
      "\u001b[?25h  Created wheel for autocorrect: filename=autocorrect-2.6.1-py3-none-any.whl size=622381 sha256=e2b5c7a2a4e4df60d1b97b0a2e50cf6314295c8fa8038f88fcb868da79c307f2\r\n",
      "  Stored in directory: /root/.cache/pip/wheels/54/d4/37/8244101ad50b0f7d9bffd93ce58ed7991ee1753b290923934b\r\n",
      "Successfully built autocorrect\r\n",
      "Installing collected packages: autocorrect\r\n",
      "Successfully installed autocorrect-2.6.1\r\n",
      "\u001b[33mWARNING: Running pip as the 'root' user can result in broken permissions and conflicting behaviour with the system package manager. It is recommended to use a virtual environment instead: https://pip.pypa.io/warnings/venv\u001b[0m\r\n"
     ]
    }
   ],
   "source": [
    "!pip install autocorrect\n",
    "from autocorrect import Speller\n",
    "spell = Speller(fast=True)\n"
   ]
  },
  {
   "cell_type": "code",
   "execution_count": 9,
   "id": "7d835e4e",
   "metadata": {
    "execution": {
     "iopub.execute_input": "2022-02-14T05:17:41.514616Z",
     "iopub.status.busy": "2022-02-14T05:17:41.513874Z",
     "iopub.status.idle": "2022-02-14T05:17:41.574553Z",
     "shell.execute_reply": "2022-02-14T05:17:41.574986Z",
     "shell.execute_reply.started": "2022-02-14T04:07:23.27598Z"
    },
    "papermill": {
     "duration": 0.103,
     "end_time": "2022-02-14T05:17:41.575146",
     "exception": false,
     "start_time": "2022-02-14T05:17:41.472146",
     "status": "completed"
    },
    "tags": []
   },
   "outputs": [
    {
     "data": {
      "text/html": [
       "<div>\n",
       "<style scoped>\n",
       "    .dataframe tbody tr th:only-of-type {\n",
       "        vertical-align: middle;\n",
       "    }\n",
       "\n",
       "    .dataframe tbody tr th {\n",
       "        vertical-align: top;\n",
       "    }\n",
       "\n",
       "    .dataframe thead th {\n",
       "        text-align: right;\n",
       "    }\n",
       "</style>\n",
       "<table border=\"1\" class=\"dataframe\">\n",
       "  <thead>\n",
       "    <tr style=\"text-align: right;\">\n",
       "      <th></th>\n",
       "      <th>id</th>\n",
       "      <th>text</th>\n",
       "    </tr>\n",
       "  </thead>\n",
       "  <tbody>\n",
       "    <tr>\n",
       "      <th>0</th>\n",
       "      <td>0FB0700DAF44</td>\n",
       "      <td>During a group project, have you ever asked a ...</td>\n",
       "    </tr>\n",
       "    <tr>\n",
       "      <th>1</th>\n",
       "      <td>D72CB1C11673</td>\n",
       "      <td>Making choices in life can be very difficult. ...</td>\n",
       "    </tr>\n",
       "    <tr>\n",
       "      <th>2</th>\n",
       "      <td>18409261F5C2</td>\n",
       "      <td>80% of Americans believe seeking multiple opin...</td>\n",
       "    </tr>\n",
       "    <tr>\n",
       "      <th>3</th>\n",
       "      <td>DF920E0A7337</td>\n",
       "      <td>Have you ever asked more than one person for h...</td>\n",
       "    </tr>\n",
       "    <tr>\n",
       "      <th>4</th>\n",
       "      <td>D46BCB48440A</td>\n",
       "      <td>When people ask for advice,they sometimes talk...</td>\n",
       "    </tr>\n",
       "  </tbody>\n",
       "</table>\n",
       "</div>"
      ],
      "text/plain": [
       "             id                                               text\n",
       "0  0FB0700DAF44  During a group project, have you ever asked a ...\n",
       "1  D72CB1C11673  Making choices in life can be very difficult. ...\n",
       "2  18409261F5C2  80% of Americans believe seeking multiple opin...\n",
       "3  DF920E0A7337  Have you ever asked more than one person for h...\n",
       "4  D46BCB48440A  When people ask for advice,they sometimes talk..."
      ]
     },
     "execution_count": 9,
     "metadata": {},
     "output_type": "execute_result"
    }
   ],
   "source": [
    "# https://www.kaggle.com/raghavendrakotala/fine-tunned-on-roberta-base-as-ner-problem-0-533\n",
    "test_names, test_texts = [], []\n",
    "for f in list(os.listdir('../input/feedback-prize-2021/test')):\n",
    "    test_names.append(f.replace('.txt', ''))\n",
    "    text = open('../input/feedback-prize-2021/test/' + f, 'r').read()\n",
    "    text = spell(text)\n",
    "    test_texts.append(text)\n",
    "test_texts = pd.DataFrame({'id': test_names, 'text': test_texts})\n",
    "test_texts.head()"
   ]
  },
  {
   "cell_type": "code",
   "execution_count": 10,
   "id": "155d2543",
   "metadata": {
    "execution": {
     "iopub.execute_input": "2022-02-14T05:17:41.654650Z",
     "iopub.status.busy": "2022-02-14T05:17:41.654060Z",
     "iopub.status.idle": "2022-02-14T05:20:14.580932Z",
     "shell.execute_reply": "2022-02-14T05:20:14.580431Z",
     "shell.execute_reply.started": "2022-02-14T04:07:33.452782Z"
    },
    "papermill": {
     "duration": 152.968541,
     "end_time": "2022-02-14T05:20:14.581069",
     "exception": false,
     "start_time": "2022-02-14T05:17:41.612528",
     "status": "completed"
    },
    "tags": []
   },
   "outputs": [
    {
     "name": "stderr",
     "output_type": "stream",
     "text": [
      "100%|██████████| 15594/15594 [02:32<00:00, 102.21it/s]\n"
     ]
    },
    {
     "data": {
      "text/html": [
       "<div>\n",
       "<style scoped>\n",
       "    .dataframe tbody tr th:only-of-type {\n",
       "        vertical-align: middle;\n",
       "    }\n",
       "\n",
       "    .dataframe tbody tr th {\n",
       "        vertical-align: top;\n",
       "    }\n",
       "\n",
       "    .dataframe thead th {\n",
       "        text-align: right;\n",
       "    }\n",
       "</style>\n",
       "<table border=\"1\" class=\"dataframe\">\n",
       "  <thead>\n",
       "    <tr style=\"text-align: right;\">\n",
       "      <th></th>\n",
       "      <th>id</th>\n",
       "      <th>text</th>\n",
       "    </tr>\n",
       "  </thead>\n",
       "  <tbody>\n",
       "    <tr>\n",
       "      <th>0</th>\n",
       "      <td>62C57C524CD2</td>\n",
       "      <td>I think we should be able to play in a sport i...</td>\n",
       "    </tr>\n",
       "    <tr>\n",
       "      <th>1</th>\n",
       "      <td>80667AD3FFD8</td>\n",
       "      <td>Some schools require summer projects for stude...</td>\n",
       "    </tr>\n",
       "    <tr>\n",
       "      <th>2</th>\n",
       "      <td>21868C40B94F</td>\n",
       "      <td>Driverless cars have been argued and talked ab...</td>\n",
       "    </tr>\n",
       "    <tr>\n",
       "      <th>3</th>\n",
       "      <td>87A6EF3113C6</td>\n",
       "      <td>The author of \"The Challenge of Exploring Venu...</td>\n",
       "    </tr>\n",
       "    <tr>\n",
       "      <th>4</th>\n",
       "      <td>24687D08CFDA</td>\n",
       "      <td>Wow, from the mar really look like humans face...</td>\n",
       "    </tr>\n",
       "  </tbody>\n",
       "</table>\n",
       "</div>"
      ],
      "text/plain": [
       "             id                                               text\n",
       "0  62C57C524CD2  I think we should be able to play in a sport i...\n",
       "1  80667AD3FFD8  Some schools require summer projects for stude...\n",
       "2  21868C40B94F  Driverless cars have been argued and talked ab...\n",
       "3  87A6EF3113C6  The author of \"The Challenge of Exploring Venu...\n",
       "4  24687D08CFDA  Wow, from the mar really look like humans face..."
      ]
     },
     "execution_count": 10,
     "metadata": {},
     "output_type": "execute_result"
    }
   ],
   "source": [
    "# https://www.kaggle.com/raghavendrakotala/fine-tunned-on-roberta-base-as-ner-problem-0-533\n",
    "train_names, train_texts = [], []\n",
    "for f in tqdm(list(os.listdir('../input/feedback-prize-2021/train'))):\n",
    "    train_names.append(f.replace('.txt', ''))\n",
    "    text = open('../input/feedback-prize-2021/train/' + f, 'r').read()\n",
    "    text = spell(text)\n",
    "    train_texts.append(open('../input/feedback-prize-2021/train/' + f, 'r').read())\n",
    "train_text_df = pd.DataFrame({'id': train_names, 'text': train_texts})\n",
    "train_text_df.head()"
   ]
  },
  {
   "cell_type": "markdown",
   "id": "39d52af5",
   "metadata": {
    "papermill": {
     "duration": 0.388098,
     "end_time": "2022-02-14T05:20:15.356145",
     "exception": false,
     "start_time": "2022-02-14T05:20:14.968047",
     "status": "completed"
    },
    "tags": []
   },
   "source": [
    "# Convert Train Text to NER Labels\n",
    "We will now convert all text words into NER labels and save in a dataframe."
   ]
  },
  {
   "cell_type": "code",
   "execution_count": 11,
   "id": "da3beb34",
   "metadata": {
    "execution": {
     "iopub.execute_input": "2022-02-14T05:20:16.133443Z",
     "iopub.status.busy": "2022-02-14T05:20:16.132853Z",
     "iopub.status.idle": "2022-02-14T05:20:29.439855Z",
     "shell.execute_reply": "2022-02-14T05:20:29.440261Z",
     "shell.execute_reply.started": "2022-02-14T04:10:17.704426Z"
    },
    "papermill": {
     "duration": 13.700296,
     "end_time": "2022-02-14T05:20:29.440412",
     "exception": false,
     "start_time": "2022-02-14T05:20:15.740116",
     "status": "completed"
    },
    "tags": []
   },
   "outputs": [
    {
     "name": "stdout",
     "output_type": "stream",
     "text": [
      "(15594, 3)\n"
     ]
    },
    {
     "data": {
      "text/html": [
       "<div>\n",
       "<style scoped>\n",
       "    .dataframe tbody tr th:only-of-type {\n",
       "        vertical-align: middle;\n",
       "    }\n",
       "\n",
       "    .dataframe tbody tr th {\n",
       "        vertical-align: top;\n",
       "    }\n",
       "\n",
       "    .dataframe thead th {\n",
       "        text-align: right;\n",
       "    }\n",
       "</style>\n",
       "<table border=\"1\" class=\"dataframe\">\n",
       "  <thead>\n",
       "    <tr style=\"text-align: right;\">\n",
       "      <th></th>\n",
       "      <th>id</th>\n",
       "      <th>text</th>\n",
       "      <th>entities</th>\n",
       "    </tr>\n",
       "  </thead>\n",
       "  <tbody>\n",
       "    <tr>\n",
       "      <th>0</th>\n",
       "      <td>E1FA876D6E6C</td>\n",
       "      <td>Dear Senator,\\n\\nI am writting this letter to ...</td>\n",
       "      <td>[O, O, B-Lead, I-Lead, I-Lead, I-Lead, I-Lead,...</td>\n",
       "    </tr>\n",
       "    <tr>\n",
       "      <th>1</th>\n",
       "      <td>8AC1D6E165CD</td>\n",
       "      <td>Dear Principal, I believe in policy 2. Kids ar...</td>\n",
       "      <td>[O, O, B-Position, I-Position, I-Position, I-P...</td>\n",
       "    </tr>\n",
       "    <tr>\n",
       "      <th>2</th>\n",
       "      <td>45EF6A4EDB1A</td>\n",
       "      <td>Summer projects are no fun, but they are a gre...</td>\n",
       "      <td>[B-Lead, I-Lead, I-Lead, I-Lead, I-Lead, I-Lea...</td>\n",
       "    </tr>\n",
       "    <tr>\n",
       "      <th>3</th>\n",
       "      <td>B0070361406D</td>\n",
       "      <td>The author who wrote \"The challenge of Explori...</td>\n",
       "      <td>[B-Lead, I-Lead, I-Lead, I-Lead, I-Lead, I-Lea...</td>\n",
       "    </tr>\n",
       "    <tr>\n",
       "      <th>4</th>\n",
       "      <td>839F4F7F7DD7</td>\n",
       "      <td>Our school systems have seen many changes as t...</td>\n",
       "      <td>[B-Lead, I-Lead, I-Lead, I-Lead, I-Lead, I-Lea...</td>\n",
       "    </tr>\n",
       "  </tbody>\n",
       "</table>\n",
       "</div>"
      ],
      "text/plain": [
       "             id                                               text  \\\n",
       "0  E1FA876D6E6C  Dear Senator,\\n\\nI am writting this letter to ...   \n",
       "1  8AC1D6E165CD  Dear Principal, I believe in policy 2. Kids ar...   \n",
       "2  45EF6A4EDB1A  Summer projects are no fun, but they are a gre...   \n",
       "3  B0070361406D  The author who wrote \"The challenge of Explori...   \n",
       "4  839F4F7F7DD7  Our school systems have seen many changes as t...   \n",
       "\n",
       "                                            entities  \n",
       "0  [O, O, B-Lead, I-Lead, I-Lead, I-Lead, I-Lead,...  \n",
       "1  [O, O, B-Position, I-Position, I-Position, I-P...  \n",
       "2  [B-Lead, I-Lead, I-Lead, I-Lead, I-Lead, I-Lea...  \n",
       "3  [B-Lead, I-Lead, I-Lead, I-Lead, I-Lead, I-Lea...  \n",
       "4  [B-Lead, I-Lead, I-Lead, I-Lead, I-Lead, I-Lea...  "
      ]
     },
     "execution_count": 11,
     "metadata": {},
     "output_type": "execute_result"
    }
   ],
   "source": [
    "if not LOAD_TOKENS_FROM:\n",
    "    all_entities = []\n",
    "    for ii,i in enumerate(train_text_df.iterrows()):\n",
    "        if ii%100==0: print(ii,', ',end='')\n",
    "        total = i[1]['text'].split().__len__()\n",
    "        entities = [\"O\"]*total\n",
    "        for j in train_df[train_df['id'] == i[1]['id']].iterrows():\n",
    "            discourse = j[1]['discourse_type']\n",
    "            list_ix = [int(x) for x in j[1]['predictionstring'].split(' ')]\n",
    "            entities[list_ix[0]] = f\"B-{discourse}\"\n",
    "            for k in list_ix[1:]: entities[k] = f\"I-{discourse}\"\n",
    "        all_entities.append(entities)\n",
    "    train_text_df['entities'] = all_entities\n",
    "    train_text_df.to_csv('train_NER.csv',index=False)\n",
    "    \n",
    "else:\n",
    "    from ast import literal_eval\n",
    "    train_text_df = pd.read_csv(f'{LOAD_TOKENS_FROM}/train_NER.csv')\n",
    "    # pandas saves lists as string, we must convert back\n",
    "    train_text_df.entities = train_text_df.entities.apply(lambda x: literal_eval(x) )\n",
    "    \n",
    "print( train_text_df.shape )\n",
    "train_text_df.head()"
   ]
  },
  {
   "cell_type": "code",
   "execution_count": 12,
   "id": "d7873aaf",
   "metadata": {
    "execution": {
     "iopub.execute_input": "2022-02-14T05:20:30.224967Z",
     "iopub.status.busy": "2022-02-14T05:20:30.224093Z",
     "iopub.status.idle": "2022-02-14T05:20:30.226550Z",
     "shell.execute_reply": "2022-02-14T05:20:30.226152Z",
     "shell.execute_reply.started": "2022-02-14T04:10:40.172292Z"
    },
    "papermill": {
     "duration": 0.401766,
     "end_time": "2022-02-14T05:20:30.226691",
     "exception": false,
     "start_time": "2022-02-14T05:20:29.824925",
     "status": "completed"
    },
    "tags": []
   },
   "outputs": [],
   "source": [
    "# CREATE DICTIONARIES THAT WE CAN USE DURING TRAIN AND INFER\n",
    "output_labels = ['O', 'B-Lead', 'I-Lead', 'B-Position', 'I-Position', 'B-Claim', 'I-Claim', 'B-Counterclaim', 'I-Counterclaim', \n",
    "          'B-Rebuttal', 'I-Rebuttal', 'B-Evidence', 'I-Evidence', 'B-Concluding Statement', 'I-Concluding Statement']\n",
    "\n",
    "labels_to_ids = {v:k for k,v in enumerate(output_labels)}\n",
    "ids_to_labels = {k:v for k,v in enumerate(output_labels)}"
   ]
  },
  {
   "cell_type": "code",
   "execution_count": 13,
   "id": "42f0103c",
   "metadata": {
    "execution": {
     "iopub.execute_input": "2022-02-14T05:20:31.005005Z",
     "iopub.status.busy": "2022-02-14T05:20:31.004240Z",
     "iopub.status.idle": "2022-02-14T05:20:31.007196Z",
     "shell.execute_reply": "2022-02-14T05:20:31.007629Z",
     "shell.execute_reply.started": "2022-02-02T03:01:21.490813Z"
    },
    "papermill": {
     "duration": 0.395904,
     "end_time": "2022-02-14T05:20:31.007801",
     "exception": false,
     "start_time": "2022-02-14T05:20:30.611897",
     "status": "completed"
    },
    "tags": []
   },
   "outputs": [
    {
     "data": {
      "text/plain": [
       "{'O': 0,\n",
       " 'B-Lead': 1,\n",
       " 'I-Lead': 2,\n",
       " 'B-Position': 3,\n",
       " 'I-Position': 4,\n",
       " 'B-Claim': 5,\n",
       " 'I-Claim': 6,\n",
       " 'B-Counterclaim': 7,\n",
       " 'I-Counterclaim': 8,\n",
       " 'B-Rebuttal': 9,\n",
       " 'I-Rebuttal': 10,\n",
       " 'B-Evidence': 11,\n",
       " 'I-Evidence': 12,\n",
       " 'B-Concluding Statement': 13,\n",
       " 'I-Concluding Statement': 14}"
      ]
     },
     "execution_count": 13,
     "metadata": {},
     "output_type": "execute_result"
    }
   ],
   "source": [
    "labels_to_ids"
   ]
  },
  {
   "cell_type": "markdown",
   "id": "2a229517",
   "metadata": {
    "papermill": {
     "duration": 0.387219,
     "end_time": "2022-02-14T05:20:31.790726",
     "exception": false,
     "start_time": "2022-02-14T05:20:31.403507",
     "status": "completed"
    },
    "tags": []
   },
   "source": [
    "# Define the dataset function\n",
    "Below is our PyTorch dataset function. It always outputs tokens and attention. During training it also provides labels. And during inference it also provides word ids to help convert token predictions into word predictions.\n",
    "\n",
    "Note that we use `text.split()` and `is_split_into_words=True` when we convert train text to labeled train tokens. This is how the HugglingFace tutorial does it. However, this removes characters like `\\n` new paragraph. If you want your model to see new paragraphs, then we need to map words to tokens ourselves using `return_offsets_mapping=True`. See my TensorFlow notebook [here][1] for an example.\n",
    "\n",
    "Some of the following code comes from the example at HuggingFace [here][2]. However I think the code at that link is wrong. The HuggingFace original code is [here][3]. With the flag `LABEL_ALL` we can either label just the first subword token (when one word has more than one subword token). Or we can label all the subword tokens (with the word's label). In this notebook version, we label all the tokens. There is a Kaggle discussion [here][4]\n",
    "\n",
    "[1]: https://www.kaggle.com/cdeotte/tensorflow-longformer-ner-cv-0-617\n",
    "[2]: https://huggingface.co/docs/transformers/custom_datasets#tok_ner\n",
    "[3]: https://github.com/huggingface/transformers/blob/86b40073e9aee6959c8c85fcba89e47b432c4f4d/examples/pytorch/token-classification/run_ner.py#L371\n",
    "[4]: https://www.kaggle.com/c/feedback-prize-2021/discussion/296713"
   ]
  },
  {
   "cell_type": "code",
   "execution_count": 14,
   "id": "d89ac182",
   "metadata": {
    "execution": {
     "iopub.execute_input": "2022-02-14T05:20:32.809350Z",
     "iopub.status.busy": "2022-02-14T05:20:32.808498Z",
     "iopub.status.idle": "2022-02-14T05:20:32.810370Z",
     "shell.execute_reply": "2022-02-14T05:20:32.810788Z",
     "shell.execute_reply.started": "2022-02-14T04:10:44.555457Z"
    },
    "papermill": {
     "duration": 0.578597,
     "end_time": "2022-02-14T05:20:32.810927",
     "exception": false,
     "start_time": "2022-02-14T05:20:32.232330",
     "status": "completed"
    },
    "tags": []
   },
   "outputs": [],
   "source": [
    "# Return an array that maps character index to index of word in list of split() words\n",
    "def split_mapping(unsplit):\n",
    "    splt = unsplit.split()\n",
    "    offset_to_wordidx = np.full(len(unsplit),-1)\n",
    "    txt_ptr = 0\n",
    "    for split_index, full_word in enumerate(splt):\n",
    "        while unsplit[txt_ptr:txt_ptr + len(full_word)] != full_word:\n",
    "            txt_ptr += 1\n",
    "        offset_to_wordidx[txt_ptr:txt_ptr + len(full_word)] = split_index\n",
    "        txt_ptr += len(full_word)\n",
    "    return offset_to_wordidx"
   ]
  },
  {
   "cell_type": "code",
   "execution_count": 15,
   "id": "c24d3a59",
   "metadata": {
    "execution": {
     "iopub.execute_input": "2022-02-14T05:20:33.615325Z",
     "iopub.status.busy": "2022-02-14T05:20:33.613377Z",
     "iopub.status.idle": "2022-02-14T05:20:33.616175Z",
     "shell.execute_reply": "2022-02-14T05:20:33.616653Z",
     "shell.execute_reply.started": "2022-02-14T04:10:48.091625Z"
    },
    "papermill": {
     "duration": 0.421224,
     "end_time": "2022-02-14T05:20:33.616848",
     "exception": false,
     "start_time": "2022-02-14T05:20:33.195624",
     "status": "completed"
    },
    "tags": []
   },
   "outputs": [],
   "source": [
    "class dataset(Dataset):\n",
    "  def __init__(self, dataframe, tokenizer, max_len, get_wids):\n",
    "        self.len = len(dataframe)\n",
    "        self.data = dataframe\n",
    "        self.tokenizer = tokenizer\n",
    "        self.max_len = max_len\n",
    "        self.get_wids = get_wids # for validation\n",
    "\n",
    "  def __getitem__(self, index):\n",
    "        # GET TEXT AND WORD LABELS \n",
    "        text = self.data.text[index]        \n",
    "        word_labels = self.data.entities[index] if not self.get_wids else None\n",
    "\n",
    "        # TOKENIZE TEXT\n",
    "        encoding = self.tokenizer(text,\n",
    "                             return_offsets_mapping=True, \n",
    "                             padding='max_length', \n",
    "                             truncation=True, \n",
    "                             max_length=self.max_len)\n",
    "        \n",
    "        word_ids = encoding.word_ids()  \n",
    "        split_word_ids = np.full(len(word_ids),-1)\n",
    "        offset_to_wordidx = split_mapping(text)\n",
    "        offsets = encoding['offset_mapping']\n",
    "        \n",
    "        # CREATE TARGETS AND MAPPING OF TOKENS TO SPLIT() WORDS\n",
    "        label_ids = []\n",
    "        # Iterate in reverse to label whitespace tokens until a Begin token is encountered\n",
    "        for token_idx, word_idx in reversed(list(enumerate(word_ids))):\n",
    "            \n",
    "            if word_idx is None:\n",
    "                if not self.get_wids: label_ids.append(-100)\n",
    "            else:\n",
    "                if offsets[token_idx] != (0,0):\n",
    "                    #Choose the split word that shares the most characters with the token if any\n",
    "                    split_idxs = offset_to_wordidx[offsets[token_idx][0]:offsets[token_idx][1]]\n",
    "                    split_index = stats.mode(split_idxs[split_idxs != -1]).mode[0] if len(np.unique(split_idxs)) > 1 else split_idxs[0]\n",
    "                    \n",
    "                    if split_index != -1: \n",
    "                        if not self.get_wids: label_ids.append( labels_to_ids[word_labels[split_index]] )\n",
    "                        split_word_ids[token_idx] = split_index\n",
    "                    else:\n",
    "                        # Even if we don't find a word, continue labeling 'I' tokens until a 'B' token is found\n",
    "                        if label_ids and label_ids[-1] != -100 and ids_to_labels[label_ids[-1]][0] == 'I':\n",
    "                            split_word_ids[token_idx] = split_word_ids[token_idx + 1]\n",
    "                            if not self.get_wids: label_ids.append(label_ids[-1])\n",
    "                        else:\n",
    "                            if not self.get_wids: label_ids.append(-100)\n",
    "                else:\n",
    "                    if not self.get_wids: label_ids.append(-100)\n",
    "        \n",
    "        encoding['labels'] = list(reversed(label_ids))\n",
    "\n",
    "        # CONVERT TO TORCH TENSORS\n",
    "        item = {key: torch.as_tensor(val) for key, val in encoding.items()}\n",
    "        if self.get_wids: \n",
    "            item['wids'] = torch.as_tensor(split_word_ids)\n",
    "        \n",
    "        return item\n",
    "\n",
    "  def __len__(self):\n",
    "        return self.len"
   ]
  },
  {
   "cell_type": "markdown",
   "id": "c330f2b7",
   "metadata": {
    "papermill": {
     "duration": 0.382764,
     "end_time": "2022-02-14T05:20:34.386489",
     "exception": false,
     "start_time": "2022-02-14T05:20:34.003725",
     "status": "completed"
    },
    "tags": []
   },
   "source": [
    "# Create Train and Validation Dataloaders\n",
    "We will use the same train and validation subsets as my TensorFlow notebook [here][1]. Then we can compare results. And/or experiment with ensembling the validation fold predictions.\n",
    "\n",
    "[1]: https://www.kaggle.com/cdeotte/tensorflow-longformer-ner-cv-0-617"
   ]
  },
  {
   "cell_type": "code",
   "execution_count": 16,
   "id": "fbe754e4",
   "metadata": {
    "execution": {
     "iopub.execute_input": "2022-02-14T05:20:35.183764Z",
     "iopub.status.busy": "2022-02-14T05:20:35.182915Z",
     "iopub.status.idle": "2022-02-14T05:20:35.195249Z",
     "shell.execute_reply": "2022-02-14T05:20:35.194730Z",
     "shell.execute_reply.started": "2022-02-14T04:40:35.447773Z"
    },
    "papermill": {
     "duration": 0.418912,
     "end_time": "2022-02-14T05:20:35.195422",
     "exception": false,
     "start_time": "2022-02-14T05:20:34.776510",
     "status": "completed"
    },
    "tags": []
   },
   "outputs": [
    {
     "name": "stdout",
     "output_type": "stream",
     "text": [
      "There are 15594 train texts. We will split 90% 10% for validation.\n"
     ]
    }
   ],
   "source": [
    "# CHOOSE VALIDATION INDEXES (that match my TF notebook)\n",
    "IDS = train_df.id.unique()\n",
    "print('There are',len(IDS),'train texts. We will split 90% 10% for validation.')\n",
    "\n",
    "# TRAIN VALID SPLIT 90% 10%\n",
    "np.random.seed(42)\n",
    "train_idx = np.random.choice(np.arange(len(IDS)),int(0.9*len(IDS)),replace=False)\n",
    "valid_idx = np.setdiff1d(np.arange(len(IDS)),train_idx)\n",
    "np.random.seed(None)"
   ]
  },
  {
   "cell_type": "markdown",
   "id": "5d364511",
   "metadata": {
    "papermill": {
     "duration": 0.389604,
     "end_time": "2022-02-14T05:20:35.979753",
     "exception": false,
     "start_time": "2022-02-14T05:20:35.590149",
     "status": "completed"
    },
    "tags": []
   },
   "source": [
    "# Oversampling\n"
   ]
  },
  {
   "cell_type": "code",
   "execution_count": 17,
   "id": "7588ee34",
   "metadata": {
    "execution": {
     "iopub.execute_input": "2022-02-14T05:20:36.776259Z",
     "iopub.status.busy": "2022-02-14T05:20:36.775434Z",
     "iopub.status.idle": "2022-02-14T05:20:37.560584Z",
     "shell.execute_reply": "2022-02-14T05:20:37.560978Z"
    },
    "papermill": {
     "duration": 1.192544,
     "end_time": "2022-02-14T05:20:37.561138",
     "exception": false,
     "start_time": "2022-02-14T05:20:36.368594",
     "status": "completed"
    },
    "tags": []
   },
   "outputs": [
    {
     "data": {
      "text/plain": [
       "{'0000D23A521A': array(['Position', 'Evidence', 'Claim', 'Counterclaim', 'Rebuttal',\n",
       "        'Concluding Statement'], dtype=object),\n",
       " '00066EA9880D': array(['Lead', 'Position', 'Claim', 'Evidence', 'Concluding Statement'],\n",
       "       dtype=object),\n",
       " '000E6DE9E817': array(['Position', 'Counterclaim', 'Rebuttal', 'Evidence', 'Claim',\n",
       "        'Concluding Statement'], dtype=object),\n",
       " '001552828BD0': array(['Lead', 'Evidence', 'Claim', 'Position'], dtype=object),\n",
       " '0016926B079C': array(['Position', 'Claim', 'Evidence'], dtype=object),\n",
       " '0019E4D09427': array(['Claim', 'Evidence', 'Concluding Statement', 'Position'],\n",
       "       dtype=object),\n",
       " '001A03E06F3C': array(['Lead', 'Position', 'Claim', 'Evidence', 'Concluding Statement'],\n",
       "       dtype=object),\n",
       " '00203C45FC55': array(['Lead', 'Position', 'Evidence', 'Counterclaim', 'Rebuttal',\n",
       "        'Claim', 'Concluding Statement'], dtype=object),\n",
       " '00213CD75AC3': array(['Lead', 'Position', 'Evidence', 'Claim'], dtype=object),\n",
       " '0027FC00C35B': array(['Lead', 'Claim', 'Evidence', 'Counterclaim', 'Position',\n",
       "        'Rebuttal', 'Concluding Statement'], dtype=object)}"
      ]
     },
     "execution_count": 17,
     "metadata": {},
     "output_type": "execute_result"
    }
   ],
   "source": [
    "X_train_ids = list(IDS[train_idx])\n",
    "X_val_ids = list(IDS[valid_idx])\n",
    "\n",
    "DISCOURSE_TYPES = train_df['discourse_type'].unique().tolist()\n",
    "\n",
    "id2discourse_types_dict = train_df.groupby('id')['discourse_type'].unique().to_dict()\n",
    "\n",
    "dict(list(id2discourse_types_dict.items())[:10])"
   ]
  },
  {
   "cell_type": "code",
   "execution_count": 18,
   "id": "73029bb1",
   "metadata": {
    "execution": {
     "iopub.execute_input": "2022-02-14T05:20:38.350744Z",
     "iopub.status.busy": "2022-02-14T05:20:38.349986Z",
     "iopub.status.idle": "2022-02-14T05:20:38.386905Z",
     "shell.execute_reply": "2022-02-14T05:20:38.387342Z"
    },
    "papermill": {
     "duration": 0.434796,
     "end_time": "2022-02-14T05:20:38.387490",
     "exception": false,
     "start_time": "2022-02-14T05:20:37.952694",
     "status": "completed"
    },
    "tags": []
   },
   "outputs": [
    {
     "data": {
      "text/plain": [
       "Claim                   13435\n",
       "Concluding Statement    12055\n",
       "Counterclaim             4125\n",
       "Evidence                13998\n",
       "Lead                     8386\n",
       "Position                13826\n",
       "Rebuttal                 3261\n",
       "dtype: int64"
      ]
     },
     "metadata": {},
     "output_type": "display_data"
    }
   ],
   "source": [
    "def train_ids2discourse_type_counts():\n",
    "    discourse_type_counts_train_ids = dict([(dt, 0) for dt  in DISCOURSE_TYPES])\n",
    "    \n",
    "    for train_id in X_train_ids:\n",
    "        for dt in id2discourse_types_dict[train_id]:\n",
    "            discourse_type_counts_train_ids[dt] += 1\n",
    "            \n",
    "    return pd.Series(discourse_type_counts_train_ids).sort_values()\n",
    "\n",
    "discourse_type_counts0 = train_ids2discourse_type_counts()\n",
    "\n",
    "# Discour Type Count\n",
    "display(discourse_type_counts0.sort_index())"
   ]
  },
  {
   "cell_type": "code",
   "execution_count": 19,
   "id": "f51c08fd",
   "metadata": {
    "execution": {
     "iopub.execute_input": "2022-02-14T05:20:39.176005Z",
     "iopub.status.busy": "2022-02-14T05:20:39.175048Z",
     "iopub.status.idle": "2022-02-14T05:20:39.178031Z",
     "shell.execute_reply": "2022-02-14T05:20:39.178646Z"
    },
    "papermill": {
     "duration": 0.400116,
     "end_time": "2022-02-14T05:20:39.178822",
     "exception": false,
     "start_time": "2022-02-14T05:20:38.778706",
     "status": "completed"
    },
    "tags": []
   },
   "outputs": [
    {
     "name": "stdout",
     "output_type": "stream",
     "text": [
      "DISCOURSE_TYPES: ['Rebuttal', 'Counterclaim', 'Lead', 'Concluding Statement', 'Claim', 'Position', 'Evidence'], FILL_TO: 13998\n"
     ]
    }
   ],
   "source": [
    "# Fill All Classes to the Majority Class\n",
    "DISCOURSE_TYPES = discourse_type_counts0.index.tolist()\n",
    "FILL_TO = max(discourse_type_counts0)\n",
    "\n",
    "print(f'DISCOURSE_TYPES: {DISCOURSE_TYPES}, FILL_TO: {FILL_TO}')"
   ]
  },
  {
   "cell_type": "code",
   "execution_count": 20,
   "id": "e0ad0c71",
   "metadata": {
    "execution": {
     "iopub.execute_input": "2022-02-14T05:20:39.968554Z",
     "iopub.status.busy": "2022-02-14T05:20:39.967654Z",
     "iopub.status.idle": "2022-02-14T05:22:37.793959Z",
     "shell.execute_reply": "2022-02-14T05:22:37.793309Z"
    },
    "papermill": {
     "duration": 118.221621,
     "end_time": "2022-02-14T05:22:37.794144",
     "exception": false,
     "start_time": "2022-02-14T05:20:39.572523",
     "status": "completed"
    },
    "tags": []
   },
   "outputs": [
    {
     "name": "stderr",
     "output_type": "stream",
     "text": [
      "100%|██████████| 7/7 [01:57<00:00, 16.83s/it]\n"
     ]
    }
   ],
   "source": [
    "# Oversample to Maximum Sample Count\n",
    "for dt in tqdm(DISCOURSE_TYPES):\n",
    "    # Get current Discourse Type Count\n",
    "    discourse_type_counts = train_ids2discourse_type_counts()\n",
    "    samples_discourse_type = discourse_type_counts[dt]\n",
    "    if samples_discourse_type < FILL_TO:\n",
    "        while samples_discourse_type < FILL_TO:\n",
    "            # Take Random ID\n",
    "            random_id = str(np.random.choice(X_train_ids, 1).squeeze())\n",
    "            if dt in id2discourse_types_dict[random_id]:\n",
    "                X_train_ids.append(random_id)\n",
    "                samples_discourse_type += 1"
   ]
  },
  {
   "cell_type": "code",
   "execution_count": 21,
   "id": "8a2f99f3",
   "metadata": {
    "execution": {
     "iopub.execute_input": "2022-02-14T05:22:38.640450Z",
     "iopub.status.busy": "2022-02-14T05:22:38.639527Z",
     "iopub.status.idle": "2022-02-14T05:22:38.658268Z",
     "shell.execute_reply": "2022-02-14T05:22:38.658668Z"
    },
    "papermill": {
     "duration": 0.421111,
     "end_time": "2022-02-14T05:22:38.658839",
     "exception": false,
     "start_time": "2022-02-14T05:22:38.237728",
     "status": "completed"
    },
    "tags": []
   },
   "outputs": [
    {
     "name": "stdout",
     "output_type": "stream",
     "text": [
      "=== BEFORE ===\n"
     ]
    },
    {
     "data": {
      "text/html": [
       "<div>\n",
       "<style scoped>\n",
       "    .dataframe tbody tr th:only-of-type {\n",
       "        vertical-align: middle;\n",
       "    }\n",
       "\n",
       "    .dataframe tbody tr th {\n",
       "        vertical-align: top;\n",
       "    }\n",
       "\n",
       "    .dataframe thead th {\n",
       "        text-align: right;\n",
       "    }\n",
       "</style>\n",
       "<table border=\"1\" class=\"dataframe\">\n",
       "  <thead>\n",
       "    <tr style=\"text-align: right;\">\n",
       "      <th></th>\n",
       "      <th>0</th>\n",
       "    </tr>\n",
       "  </thead>\n",
       "  <tbody>\n",
       "    <tr>\n",
       "      <th>Claim</th>\n",
       "      <td>13435</td>\n",
       "    </tr>\n",
       "    <tr>\n",
       "      <th>Concluding Statement</th>\n",
       "      <td>12055</td>\n",
       "    </tr>\n",
       "    <tr>\n",
       "      <th>Counterclaim</th>\n",
       "      <td>4125</td>\n",
       "    </tr>\n",
       "    <tr>\n",
       "      <th>Evidence</th>\n",
       "      <td>13998</td>\n",
       "    </tr>\n",
       "    <tr>\n",
       "      <th>Lead</th>\n",
       "      <td>8386</td>\n",
       "    </tr>\n",
       "    <tr>\n",
       "      <th>Position</th>\n",
       "      <td>13826</td>\n",
       "    </tr>\n",
       "    <tr>\n",
       "      <th>Rebuttal</th>\n",
       "      <td>3261</td>\n",
       "    </tr>\n",
       "  </tbody>\n",
       "</table>\n",
       "</div>"
      ],
      "text/plain": [
       "                          0\n",
       "Claim                 13435\n",
       "Concluding Statement  12055\n",
       "Counterclaim           4125\n",
       "Evidence              13998\n",
       "Lead                   8386\n",
       "Position              13826\n",
       "Rebuttal               3261"
      ]
     },
     "metadata": {},
     "output_type": "display_data"
    },
    {
     "name": "stdout",
     "output_type": "stream",
     "text": [
      "=== AFTER ===\n"
     ]
    },
    {
     "data": {
      "text/html": [
       "<div>\n",
       "<style scoped>\n",
       "    .dataframe tbody tr th:only-of-type {\n",
       "        vertical-align: middle;\n",
       "    }\n",
       "\n",
       "    .dataframe tbody tr th {\n",
       "        vertical-align: top;\n",
       "    }\n",
       "\n",
       "    .dataframe thead th {\n",
       "        text-align: right;\n",
       "    }\n",
       "</style>\n",
       "<table border=\"1\" class=\"dataframe\">\n",
       "  <thead>\n",
       "    <tr style=\"text-align: right;\">\n",
       "      <th></th>\n",
       "      <th>0</th>\n",
       "    </tr>\n",
       "  </thead>\n",
       "  <tbody>\n",
       "    <tr>\n",
       "      <th>Claim</th>\n",
       "      <td>23906</td>\n",
       "    </tr>\n",
       "    <tr>\n",
       "      <th>Concluding Statement</th>\n",
       "      <td>21869</td>\n",
       "    </tr>\n",
       "    <tr>\n",
       "      <th>Counterclaim</th>\n",
       "      <td>14858</td>\n",
       "    </tr>\n",
       "    <tr>\n",
       "      <th>Evidence</th>\n",
       "      <td>24706</td>\n",
       "    </tr>\n",
       "    <tr>\n",
       "      <th>Lead</th>\n",
       "      <td>15918</td>\n",
       "    </tr>\n",
       "    <tr>\n",
       "      <th>Position</th>\n",
       "      <td>24552</td>\n",
       "    </tr>\n",
       "    <tr>\n",
       "      <th>Rebuttal</th>\n",
       "      <td>13998</td>\n",
       "    </tr>\n",
       "  </tbody>\n",
       "</table>\n",
       "</div>"
      ],
      "text/plain": [
       "                          0\n",
       "Claim                 23906\n",
       "Concluding Statement  21869\n",
       "Counterclaim          14858\n",
       "Evidence              24706\n",
       "Lead                  15918\n",
       "Position              24552\n",
       "Rebuttal              13998"
      ]
     },
     "metadata": {},
     "output_type": "display_data"
    },
    {
     "name": "stdout",
     "output_type": "stream",
     "text": [
      "=== DIFFERENCE PERCENTAGE ===\n"
     ]
    },
    {
     "data": {
      "text/html": [
       "<div>\n",
       "<style scoped>\n",
       "    .dataframe tbody tr th:only-of-type {\n",
       "        vertical-align: middle;\n",
       "    }\n",
       "\n",
       "    .dataframe tbody tr th {\n",
       "        vertical-align: top;\n",
       "    }\n",
       "\n",
       "    .dataframe thead th {\n",
       "        text-align: right;\n",
       "    }\n",
       "</style>\n",
       "<table border=\"1\" class=\"dataframe\">\n",
       "  <thead>\n",
       "    <tr style=\"text-align: right;\">\n",
       "      <th></th>\n",
       "      <th>Percentage Increase</th>\n",
       "    </tr>\n",
       "  </thead>\n",
       "  <tbody>\n",
       "    <tr>\n",
       "      <th>Claim</th>\n",
       "      <td>77%</td>\n",
       "    </tr>\n",
       "    <tr>\n",
       "      <th>Concluding Statement</th>\n",
       "      <td>81%</td>\n",
       "    </tr>\n",
       "    <tr>\n",
       "      <th>Counterclaim</th>\n",
       "      <td>260%</td>\n",
       "    </tr>\n",
       "    <tr>\n",
       "      <th>Evidence</th>\n",
       "      <td>76%</td>\n",
       "    </tr>\n",
       "    <tr>\n",
       "      <th>Lead</th>\n",
       "      <td>89%</td>\n",
       "    </tr>\n",
       "    <tr>\n",
       "      <th>Position</th>\n",
       "      <td>77%</td>\n",
       "    </tr>\n",
       "    <tr>\n",
       "      <th>Rebuttal</th>\n",
       "      <td>329%</td>\n",
       "    </tr>\n",
       "  </tbody>\n",
       "</table>\n",
       "</div>"
      ],
      "text/plain": [
       "                     Percentage Increase\n",
       "Claim                                77%\n",
       "Concluding Statement                 81%\n",
       "Counterclaim                        260%\n",
       "Evidence                             76%\n",
       "Lead                                 89%\n",
       "Position                             77%\n",
       "Rebuttal                            329%"
      ]
     },
     "metadata": {},
     "output_type": "display_data"
    }
   ],
   "source": [
    "print('=== BEFORE ===')\n",
    "display(discourse_type_counts0.to_frame().sort_index())\n",
    "print('=== AFTER ===')\n",
    "display(discourse_type_counts.to_frame().sort_index())\n",
    "print('=== DIFFERENCE PERCENTAGE ===')\n",
    "percentual_increase = ((discourse_type_counts - discourse_type_counts0) / discourse_type_counts0 * 100)\n",
    "percentual_increase = percentual_increase.apply(lambda i: f'{int(i)}%')\n",
    "percentual_increase = percentual_increase.to_frame(name='Percentage Increase')\n",
    "display(percentual_increase.sort_index())"
   ]
  },
  {
   "cell_type": "markdown",
   "id": "2ca4c3dc",
   "metadata": {
    "papermill": {
     "duration": 0.390817,
     "end_time": "2022-02-14T05:22:39.439534",
     "exception": false,
     "start_time": "2022-02-14T05:22:39.048717",
     "status": "completed"
    },
    "tags": []
   },
   "source": [
    "# CREATE TRAIN SUBSET AND VALID SUBSET"
   ]
  },
  {
   "cell_type": "code",
   "execution_count": 22,
   "id": "7498a89b",
   "metadata": {
    "execution": {
     "iopub.execute_input": "2022-02-14T05:22:40.259315Z",
     "iopub.status.busy": "2022-02-14T05:22:40.258396Z",
     "iopub.status.idle": "2022-02-14T05:22:40.400374Z",
     "shell.execute_reply": "2022-02-14T05:22:40.400981Z",
     "shell.execute_reply.started": "2022-02-14T05:11:30.883111Z"
    },
    "papermill": {
     "duration": 0.568111,
     "end_time": "2022-02-14T05:22:40.401178",
     "exception": false,
     "start_time": "2022-02-14T05:22:39.833067",
     "status": "completed"
    },
    "tags": []
   },
   "outputs": [
    {
     "name": "stdout",
     "output_type": "stream",
     "text": [
      "FULL Dataset: (15594, 3)\n",
      "TRAIN Dataset: (14034, 2)\n",
      "TEST Dataset: (1560, 3)\n"
     ]
    }
   ],
   "source": [
    "# \n",
    "data = train_text_df[['id','text', 'entities']]\n",
    "train_dataset = data.loc[data['id'].isin(X_train_ids),['text', 'entities']].reset_index(drop=True)\n",
    "test_dataset = data.loc[data['id'].isin(IDS[valid_idx])].reset_index(drop=True)\n",
    "\n",
    "print(\"FULL Dataset: {}\".format(data.shape))\n",
    "print(\"TRAIN Dataset: {}\".format(train_dataset.shape))\n",
    "print(\"TEST Dataset: {}\".format(test_dataset.shape))\n",
    "\n",
    "tokenizer = AutoTokenizer.from_pretrained(DOWNLOADED_MODEL_PATH) \n",
    "training_set = dataset(train_dataset, tokenizer, config['max_length'], False)\n",
    "testing_set = dataset(test_dataset, tokenizer, config['max_length'], True)"
   ]
  },
  {
   "cell_type": "code",
   "execution_count": 23,
   "id": "6139409f",
   "metadata": {
    "execution": {
     "iopub.execute_input": "2022-02-14T05:22:41.193333Z",
     "iopub.status.busy": "2022-02-14T05:22:41.192390Z",
     "iopub.status.idle": "2022-02-14T05:22:41.194281Z",
     "shell.execute_reply": "2022-02-14T05:22:41.194742Z",
     "shell.execute_reply.started": "2022-02-14T05:12:36.017390Z"
    },
    "papermill": {
     "duration": 0.401174,
     "end_time": "2022-02-14T05:22:41.194884",
     "exception": false,
     "start_time": "2022-02-14T05:22:40.793710",
     "status": "completed"
    },
    "tags": []
   },
   "outputs": [],
   "source": [
    "# TRAIN DATASET AND VALID DATASET\n",
    "train_params = {'batch_size': config['train_batch_size'],\n",
    "                'shuffle': True,\n",
    "                'num_workers': 2,\n",
    "                'pin_memory':True\n",
    "                }\n",
    "\n",
    "test_params = {'batch_size': config['valid_batch_size'],\n",
    "                'shuffle': False,\n",
    "                'num_workers': 2,\n",
    "                'pin_memory':True\n",
    "                }\n",
    "\n",
    "training_loader = DataLoader(training_set, **train_params)\n",
    "testing_loader = DataLoader(testing_set, **test_params)\n",
    "\n",
    "# TEST DATASET\n",
    "test_texts_set = dataset(test_texts, tokenizer, config['max_length'], True)\n",
    "test_texts_loader = DataLoader(test_texts_set, **test_params)"
   ]
  },
  {
   "cell_type": "markdown",
   "id": "82c3fef2",
   "metadata": {
    "papermill": {
     "duration": 0.389364,
     "end_time": "2022-02-14T05:22:41.984186",
     "exception": false,
     "start_time": "2022-02-14T05:22:41.594822",
     "status": "completed"
    },
    "tags": []
   },
   "source": [
    "# Train Model\n",
    "The PyTorch train function is taken from Raghavendrakotala's great notebook [here][1]. I assume it uses a masked loss which avoids computing loss when target is `-100`. If not, we need to update this.\n",
    "\n",
    "In Kaggle notebooks, we will train our model for 5 epochs `batch_size=4` with Adam optimizer and learning rates `LR = [2.5e-5, 2.5e-5, 2.5e-6, 2.5e-6, 2.5e-7]`. The loaded model was trained offline with `batch_size=8` and `LR = [5e-5, 5e-5, 5e-6, 5e-6, 5e-7]`. (Note the learning rate changes `e-5`, `e-6`, and `e-7`). Using `batch_size=4` will probably achieve a better validation score than `batch_size=8`, but I haven't tried yet.\n",
    "\n",
    "[1]: https://www.kaggle.com/raghavendrakotala/fine-tunned-on-roberta-base-as-ner-problem-0-533"
   ]
  },
  {
   "cell_type": "code",
   "execution_count": 24,
   "id": "83b917f4",
   "metadata": {
    "execution": {
     "iopub.execute_input": "2022-02-14T05:22:42.797843Z",
     "iopub.status.busy": "2022-02-14T05:22:42.796154Z",
     "iopub.status.idle": "2022-02-14T05:22:42.798414Z",
     "shell.execute_reply": "2022-02-14T05:22:42.798879Z",
     "shell.execute_reply.started": "2022-02-14T05:12:52.061272Z"
    },
    "papermill": {
     "duration": 0.42174,
     "end_time": "2022-02-14T05:22:42.799037",
     "exception": false,
     "start_time": "2022-02-14T05:22:42.377297",
     "status": "completed"
    },
    "tags": []
   },
   "outputs": [],
   "source": [
    "# https://www.kaggle.com/raghavendrakotala/fine-tunned-on-roberta-base-as-ner-problem-0-533\n",
    "def train(epoch,device):\n",
    "    tr_loss, tr_accuracy = 0, 0\n",
    "    nb_tr_examples, nb_tr_steps = 0, 0\n",
    "    #tr_preds, tr_labels = [], []\n",
    "    \n",
    "    # put model in training mode\n",
    "    model.train()\n",
    "    \n",
    "    for idx, batch in enumerate(training_loader):\n",
    "    \n",
    "        if not on_kaggle:\n",
    "            ids = batch['input_ids'].to(device, dtype = torch.long)\n",
    "            mask = batch['attention_mask'].to(device, dtype = torch.long)\n",
    "            labels = batch['labels'].to(device, dtype = torch.long)\n",
    "        else:\n",
    "            ids = batch['input_ids'].to(config['device'], dtype = torch.long)\n",
    "            mask = batch['attention_mask'].to(config['device'], dtype = torch.long)\n",
    "            labels = batch['labels'].to(config['device'], dtype = torch.long)\n",
    "\n",
    "        loss, tr_logits = model(input_ids=ids, attention_mask=mask, labels=labels,\n",
    "                               return_dict=False)\n",
    "        tr_loss += loss.item()\n",
    "\n",
    "        nb_tr_steps += 1\n",
    "        nb_tr_examples += labels.size(0)\n",
    "        \n",
    "        if idx % 100==0:\n",
    "            loss_step = tr_loss/nb_tr_steps\n",
    "            print(f\"Training loss after {idx:04d} training steps: {loss_step}\")\n",
    "           \n",
    "        # compute training accuracy\n",
    "        flattened_targets = labels.view(-1) # shape (batch_size * seq_len,)\n",
    "        active_logits = tr_logits.view(-1, model.num_labels) # shape (batch_size * seq_len, num_labels)\n",
    "        flattened_predictions = torch.argmax(active_logits, axis=1) # shape (batch_size * seq_len,)\n",
    "        \n",
    "        # only compute accuracy at active labels\n",
    "        active_accuracy = labels.view(-1) != -100 # shape (batch_size, seq_len)\n",
    "        #active_labels = torch.where(active_accuracy, labels.view(-1), torch.tensor(-100).type_as(labels))\n",
    "        \n",
    "        labels = torch.masked_select(flattened_targets, active_accuracy)\n",
    "        predictions = torch.masked_select(flattened_predictions, active_accuracy)\n",
    "        \n",
    "        #tr_labels.extend(labels)\n",
    "        #tr_preds.extend(predictions)\n",
    "\n",
    "        tmp_tr_accuracy = accuracy_score(labels.cpu().numpy(), predictions.cpu().numpy())\n",
    "        tr_accuracy += tmp_tr_accuracy\n",
    "    \n",
    "        # gradient clipping\n",
    "        torch.nn.utils.clip_grad_norm_(\n",
    "            parameters=model.parameters(), max_norm=config['max_grad_norm']\n",
    "        )\n",
    "        \n",
    "        # backward pass\n",
    "        optimizer.zero_grad()\n",
    "        loss.backward()\n",
    "        optimizer.step()\n",
    "\n",
    "    epoch_loss = tr_loss / nb_tr_steps\n",
    "    tr_accuracy = tr_accuracy / nb_tr_steps\n",
    "    print(f\"Training loss epoch: {epoch_loss}\")\n",
    "    print(f\"Training accuracy epoch: {tr_accuracy}\")"
   ]
  },
  {
   "cell_type": "code",
   "execution_count": 25,
   "id": "983772f2",
   "metadata": {
    "execution": {
     "iopub.execute_input": "2022-02-14T05:22:43.598597Z",
     "iopub.status.busy": "2022-02-14T05:22:43.597978Z",
     "iopub.status.idle": "2022-02-14T05:22:43.600749Z",
     "shell.execute_reply": "2022-02-14T05:22:43.601178Z",
     "shell.execute_reply.started": "2022-02-14T05:12:59.565891Z"
    },
    "papermill": {
     "duration": 0.399816,
     "end_time": "2022-02-14T05:22:43.601316",
     "exception": false,
     "start_time": "2022-02-14T05:22:43.201500",
     "status": "completed"
    },
    "tags": []
   },
   "outputs": [
    {
     "data": {
      "text/plain": [
       "device(type='cuda', index=0)"
      ]
     },
     "execution_count": 25,
     "metadata": {},
     "output_type": "execute_result"
    }
   ],
   "source": [
    "torch.device(0)"
   ]
  },
  {
   "cell_type": "code",
   "execution_count": 26,
   "id": "712308a6",
   "metadata": {
    "execution": {
     "iopub.execute_input": "2022-02-14T05:22:44.600710Z",
     "iopub.status.busy": "2022-02-14T05:22:44.599869Z",
     "iopub.status.idle": "2022-02-14T05:22:50.661528Z",
     "shell.execute_reply": "2022-02-14T05:22:50.661043Z",
     "shell.execute_reply.started": "2022-02-14T05:13:03.067906Z"
    },
    "papermill": {
     "duration": 6.668559,
     "end_time": "2022-02-14T05:22:50.661661",
     "exception": false,
     "start_time": "2022-02-14T05:22:43.993102",
     "status": "completed"
    },
    "tags": []
   },
   "outputs": [],
   "source": [
    "# CREATE MODEL\n",
    "config_model = AutoConfig.from_pretrained(DOWNLOADED_MODEL_PATH+'/config.json') \n",
    "model = AutoModelForTokenClassification.from_pretrained(\n",
    "                   DOWNLOADED_MODEL_PATH+'/pytorch_model.bin',config=config_model)\n",
    "device = torch.device(0)\n",
    "if on_kaggle:\n",
    "    model.to(config['device'])\n",
    "else:\n",
    "    model.to(device)\n",
    "optimizer = torch.optim.Adam(params=model.parameters(), lr=config['learning_rates'][0])"
   ]
  },
  {
   "cell_type": "code",
   "execution_count": 27,
   "id": "4fcd9308",
   "metadata": {
    "execution": {
     "iopub.execute_input": "2022-02-14T05:22:51.453803Z",
     "iopub.status.busy": "2022-02-14T05:22:51.453184Z",
     "iopub.status.idle": "2022-02-14T09:45:14.069488Z",
     "shell.execute_reply": "2022-02-14T09:45:14.069001Z",
     "shell.execute_reply.started": "2022-02-14T05:13:14.526045Z"
    },
    "papermill": {
     "duration": 15743.015908,
     "end_time": "2022-02-14T09:45:14.069642",
     "exception": false,
     "start_time": "2022-02-14T05:22:51.053734",
     "status": "completed"
    },
    "tags": []
   },
   "outputs": [
    {
     "name": "stdout",
     "output_type": "stream",
     "text": [
      "### Training epoch: 1\n",
      "### LR = 2.5e-05\n",
      "\n"
     ]
    },
    {
     "name": "stderr",
     "output_type": "stream",
     "text": [
      "/opt/conda/lib/python3.7/site-packages/torch/_tensor.py:575: UserWarning: floor_divide is deprecated, and will be removed in a future version of pytorch. It currently rounds toward 0 (like the 'trunc' function NOT 'floor'). This results in incorrect rounding for negative values.\n",
      "To keep the current behavior, use torch.div(a, b, rounding_mode='trunc'), or for actual floor division, use torch.div(a, b, rounding_mode='floor'). (Triggered internally at  /usr/local/src/pytorch/aten/src/ATen/native/BinaryOps.cpp:461.)\n",
      "  return torch.floor_divide(self, other)\n"
     ]
    },
    {
     "name": "stdout",
     "output_type": "stream",
     "text": [
      "Training loss after 0000 training steps: 2.5929245948791504\n",
      "Training loss after 0100 training steps: 1.4597484304173158\n",
      "Training loss after 0200 training steps: 1.2275406353509248\n",
      "Training loss after 0300 training steps: 1.1059837296753627\n",
      "Training loss after 0400 training steps: 1.0355665558888727\n",
      "Training loss after 0500 training steps: 0.9781551915490461\n",
      "Training loss after 0600 training steps: 0.9328590600244614\n",
      "Training loss after 0700 training steps: 0.9098988938093525\n",
      "Training loss after 0800 training steps: 0.8884555670652496\n",
      "Training loss after 0900 training steps: 0.8697215284941331\n",
      "Training loss after 1000 training steps: 0.8566959972505446\n",
      "Training loss after 1100 training steps: 0.8431943689390923\n",
      "Training loss after 1200 training steps: 0.828459312898928\n",
      "Training loss after 1300 training steps: 0.8181091819608514\n",
      "Training loss after 1400 training steps: 0.8078469995895852\n",
      "Training loss after 1500 training steps: 0.7995958074301899\n",
      "Training loss after 1600 training steps: 0.7896290953962748\n",
      "Training loss after 1700 training steps: 0.7818305783678965\n",
      "Training loss after 1800 training steps: 0.7738154166559588\n",
      "Training loss after 1900 training steps: 0.7690970415366066\n",
      "Training loss after 2000 training steps: 0.7629714070901699\n",
      "Training loss after 2100 training steps: 0.756722776230774\n",
      "Training loss after 2200 training steps: 0.7514823181745086\n",
      "Training loss after 2300 training steps: 0.7475357057088772\n",
      "Training loss after 2400 training steps: 0.7427230263093967\n",
      "Training loss after 2500 training steps: 0.7390914881815676\n",
      "Training loss after 2600 training steps: 0.735202239172498\n",
      "Training loss after 2700 training steps: 0.7307802740179667\n",
      "Training loss after 2800 training steps: 0.7257629863409774\n",
      "Training loss after 2900 training steps: 0.7212345271182857\n",
      "Training loss after 3000 training steps: 0.7180465064379264\n",
      "Training loss after 3100 training steps: 0.7146955494513938\n",
      "Training loss after 3200 training steps: 0.712343325692391\n",
      "Training loss after 3300 training steps: 0.7100674117452915\n",
      "Training loss after 3400 training steps: 0.7066221077261304\n",
      "Training loss after 3500 training steps: 0.7037615456033931\n",
      "Training loss epoch: 0.7038939404085036\n",
      "Training accuracy epoch: 0.7733163338806343\n",
      "### Training epoch: 2\n",
      "### LR = 2.5e-05\n",
      "\n",
      "Training loss after 0000 training steps: 0.4674080014228821\n",
      "Training loss after 0100 training steps: 0.5259167010536289\n",
      "Training loss after 0200 training steps: 0.5313423704448624\n",
      "Training loss after 0300 training steps: 0.5394206119336163\n",
      "Training loss after 0400 training steps: 0.5375813203410912\n",
      "Training loss after 0500 training steps: 0.5340141637656027\n",
      "Training loss after 0600 training steps: 0.53370740838634\n",
      "Training loss after 0700 training steps: 0.5335077497571409\n",
      "Training loss after 0800 training steps: 0.5344719566432724\n",
      "Training loss after 0900 training steps: 0.5380517220854363\n",
      "Training loss after 1000 training steps: 0.5413278320601412\n",
      "Training loss after 1100 training steps: 0.5415509880049244\n",
      "Training loss after 1200 training steps: 0.542731771560434\n",
      "Training loss after 1300 training steps: 0.5418291844192786\n",
      "Training loss after 1400 training steps: 0.5436134852421105\n",
      "Training loss after 1500 training steps: 0.54426087858993\n",
      "Training loss after 1600 training steps: 0.5426428733320254\n",
      "Training loss after 1700 training steps: 0.5414048836449887\n",
      "Training loss after 1800 training steps: 0.5418645149631542\n",
      "Training loss after 1900 training steps: 0.5434870329547844\n",
      "Training loss after 2000 training steps: 0.5427992938236258\n",
      "Training loss after 2100 training steps: 0.5410112828044651\n",
      "Training loss after 2200 training steps: 0.5403467335588875\n",
      "Training loss after 2300 training steps: 0.5400046562498313\n",
      "Training loss after 2400 training steps: 0.5408876328568119\n",
      "Training loss after 2500 training steps: 0.5411339555798126\n",
      "Training loss after 2600 training steps: 0.541815193140108\n",
      "Training loss after 2700 training steps: 0.541296763481453\n",
      "Training loss after 2800 training steps: 0.541934464061656\n",
      "Training loss after 2900 training steps: 0.5418824955065963\n",
      "Training loss after 3000 training steps: 0.5436157272264028\n",
      "Training loss after 3100 training steps: 0.5441165969126535\n",
      "Training loss after 3200 training steps: 0.5429077372350606\n",
      "Training loss after 3300 training steps: 0.5425542113781697\n",
      "Training loss after 3400 training steps: 0.5420130564031864\n",
      "Training loss after 3500 training steps: 0.5421528344502009\n",
      "Training loss epoch: 0.5420887624522701\n",
      "Training accuracy epoch: 0.8151327172752659\n",
      "### Training epoch: 3\n",
      "### LR = 2.5e-06\n",
      "\n",
      "Training loss after 0000 training steps: 0.5886507034301758\n",
      "Training loss after 0100 training steps: 0.43706040246651906\n",
      "Training loss after 0200 training steps: 0.43064895998779223\n",
      "Training loss after 0300 training steps: 0.4318115229028404\n",
      "Training loss after 0400 training steps: 0.42950876124035986\n",
      "Training loss after 0500 training steps: 0.42178469426379706\n",
      "Training loss after 0600 training steps: 0.42327943930213346\n",
      "Training loss after 0700 training steps: 0.42051509535006554\n",
      "Training loss after 0800 training steps: 0.4182754008101762\n",
      "Training loss after 0900 training steps: 0.41732475248379397\n",
      "Training loss after 1000 training steps: 0.4178868326675761\n",
      "Training loss after 1100 training steps: 0.42081376584711994\n",
      "Training loss after 1200 training steps: 0.420237370939626\n",
      "Training loss after 1300 training steps: 0.41863819187668816\n",
      "Training loss after 1400 training steps: 0.4172753677367739\n",
      "Training loss after 1500 training steps: 0.41667383597502305\n",
      "Training loss after 1600 training steps: 0.41712293217306506\n",
      "Training loss after 1700 training steps: 0.41687851483281535\n",
      "Training loss after 1800 training steps: 0.4169019089472883\n",
      "Training loss after 1900 training steps: 0.4163813996532915\n",
      "Training loss after 2000 training steps: 0.4150069127532317\n",
      "Training loss after 2100 training steps: 0.41330332913635914\n",
      "Training loss after 2200 training steps: 0.4130295246487474\n",
      "Training loss after 2300 training steps: 0.41344457119379496\n",
      "Training loss after 2400 training steps: 0.4130977619841217\n",
      "Training loss after 2500 training steps: 0.4124426210536713\n",
      "Training loss after 2600 training steps: 0.4124701411643426\n",
      "Training loss after 2700 training steps: 0.4119813416962798\n",
      "Training loss after 2800 training steps: 0.4114862512058975\n",
      "Training loss after 2900 training steps: 0.411183462795082\n",
      "Training loss after 3000 training steps: 0.4106444262914044\n",
      "Training loss after 3100 training steps: 0.4091303964241287\n",
      "Training loss after 3200 training steps: 0.4087345042789366\n",
      "Training loss after 3300 training steps: 0.40836269485656146\n",
      "Training loss after 3400 training steps: 0.40749594747748524\n",
      "Training loss after 3500 training steps: 0.40683562647135246\n",
      "Training loss epoch: 0.4068893711938584\n",
      "Training accuracy epoch: 0.8571065648577129\n",
      "### Training epoch: 4\n",
      "### LR = 2.5e-06\n",
      "\n",
      "Training loss after 0000 training steps: 0.2616887390613556\n",
      "Training loss after 0100 training steps: 0.3504254051511831\n",
      "Training loss after 0200 training steps: 0.37305616609640974\n",
      "Training loss after 0300 training steps: 0.37100343525013657\n",
      "Training loss after 0400 training steps: 0.3708308232655549\n",
      "Training loss after 0500 training steps: 0.36913252330409313\n",
      "Training loss after 0600 training steps: 0.36937503019555434\n",
      "Training loss after 0700 training steps: 0.37224188395981783\n",
      "Training loss after 0800 training steps: 0.37211752332254\n",
      "Training loss after 0900 training steps: 0.37204125602951854\n",
      "Training loss after 1000 training steps: 0.36981287171373833\n",
      "Training loss after 1100 training steps: 0.37082603641470163\n",
      "Training loss after 1200 training steps: 0.37167102883846737\n",
      "Training loss after 1300 training steps: 0.3714680639392683\n",
      "Training loss after 1400 training steps: 0.3710105325348627\n",
      "Training loss after 1500 training steps: 0.37237008049498393\n",
      "Training loss after 1600 training steps: 0.3741949485204206\n",
      "Training loss after 1700 training steps: 0.3738180063993422\n",
      "Training loss after 1800 training steps: 0.37432141110987743\n",
      "Training loss after 1900 training steps: 0.3736793187215164\n",
      "Training loss after 2000 training steps: 0.3728316909876065\n",
      "Training loss after 2100 training steps: 0.37391432756642284\n",
      "Training loss after 2200 training steps: 0.3736777057205206\n",
      "Training loss after 2300 training steps: 0.37333268591278485\n",
      "Training loss after 2400 training steps: 0.3732545618891021\n",
      "Training loss after 2500 training steps: 0.37294911660525093\n",
      "Training loss after 2600 training steps: 0.3726211627576499\n",
      "Training loss after 2700 training steps: 0.37234973658106585\n",
      "Training loss after 2800 training steps: 0.37209548668451115\n",
      "Training loss after 2900 training steps: 0.3725771509812068\n",
      "Training loss after 3000 training steps: 0.3727575947332883\n",
      "Training loss after 3100 training steps: 0.3727273852166458\n",
      "Training loss after 3200 training steps: 0.37237270914951515\n",
      "Training loss after 3300 training steps: 0.372238239700579\n",
      "Training loss after 3400 training steps: 0.3727491944874956\n",
      "Training loss after 3500 training steps: 0.37259718364381816\n",
      "Training loss epoch: 0.37253799356985173\n",
      "Training accuracy epoch: 0.8686422854673087\n",
      "### Training epoch: 5\n",
      "### LR = 2.5e-07\n",
      "\n",
      "Training loss after 0000 training steps: 0.27559971809387207\n",
      "Training loss after 0100 training steps: 0.3368794233492105\n",
      "Training loss after 0200 training steps: 0.33882197548649207\n",
      "Training loss after 0300 training steps: 0.34541272782903176\n",
      "Training loss after 0400 training steps: 0.34145959715667806\n",
      "Training loss after 0500 training steps: 0.34017534738410254\n",
      "Training loss after 0600 training steps: 0.34082363052495107\n",
      "Training loss after 0700 training steps: 0.33934096542430164\n",
      "Training loss after 0800 training steps: 0.33940918724077024\n",
      "Training loss after 0900 training steps: 0.3414015639552663\n",
      "Training loss after 1000 training steps: 0.3434327864176505\n",
      "Training loss after 1100 training steps: 0.344495150119364\n",
      "Training loss after 1200 training steps: 0.3451137299789775\n",
      "Training loss after 1300 training steps: 0.3456140225960785\n",
      "Training loss after 1400 training steps: 0.34494628572702235\n",
      "Training loss after 1500 training steps: 0.34587314054816665\n",
      "Training loss after 1600 training steps: 0.3460794846381268\n",
      "Training loss after 1700 training steps: 0.3466677778016673\n",
      "Training loss after 1800 training steps: 0.34617246368456256\n",
      "Training loss after 1900 training steps: 0.345351298550817\n",
      "Training loss after 2000 training steps: 0.34549154626435485\n",
      "Training loss after 2100 training steps: 0.34539038771989516\n",
      "Training loss after 2200 training steps: 0.34562397563067526\n",
      "Training loss after 2300 training steps: 0.3468150303499536\n",
      "Training loss after 2400 training steps: 0.3464920087525468\n",
      "Training loss after 2500 training steps: 0.34664957471987284\n",
      "Training loss after 2600 training steps: 0.3463698496833667\n",
      "Training loss after 2700 training steps: 0.345571975218548\n",
      "Training loss after 2800 training steps: 0.3454115683879864\n",
      "Training loss after 2900 training steps: 0.34525053130937255\n",
      "Training loss after 3000 training steps: 0.3451183056139183\n",
      "Training loss after 3100 training steps: 0.3453956901695566\n",
      "Training loss after 3200 training steps: 0.34590416061798135\n",
      "Training loss after 3300 training steps: 0.3456236367982577\n",
      "Training loss after 3400 training steps: 0.34583638767062547\n",
      "Training loss after 3500 training steps: 0.3462888201631093\n",
      "Training loss epoch: 0.34619478381539587\n",
      "Training accuracy epoch: 0.8774983163926077\n"
     ]
    }
   ],
   "source": [
    "# LOOP TO TRAIN MODEL (or load model)\n",
    "if not LOAD_MODEL_FROM:\n",
    "    for epoch in range(config['epochs']):\n",
    "        \n",
    "        print(f\"### Training epoch: {epoch + 1}\")\n",
    "        for g in optimizer.param_groups: \n",
    "            g['lr'] = config['learning_rates'][epoch]\n",
    "        lr = optimizer.param_groups[0]['lr']\n",
    "        print(f'### LR = {lr}\\n')\n",
    "        \n",
    "        train(epoch,device)\n",
    "        torch.cuda.empty_cache()\n",
    "        gc.collect()\n",
    "        \n",
    "    torch.save(model.state_dict(), f'bigbird_v{VER}.pt')\n",
    "else:\n",
    "    model.load_state_dict(torch.load(f'{LOAD_MODEL_FROM}/bigbird_v{VER}.pt'))\n",
    "    print('Model loaded.')"
   ]
  },
  {
   "cell_type": "markdown",
   "id": "684696ba",
   "metadata": {
    "papermill": {
     "duration": 0.440012,
     "end_time": "2022-02-14T09:45:14.951506",
     "exception": false,
     "start_time": "2022-02-14T09:45:14.511494",
     "status": "completed"
    },
    "tags": []
   },
   "source": [
    "# Inference and Validation Code\n",
    "We will infer in batches using our data loader which is faster than inferring one text at a time with a for-loop. The metric code is taken from Rob Mulla's great notebook [here][2]. Our model achieves validation F1 score 0.615! \n",
    "\n",
    "During inference our model will make predictions for each subword token. Some single words consist of multiple subword tokens. In the code below, we use a word's first subword token prediction as the label for the entire word. We can try other approaches, like averaging all subword predictions or taking `B` labels before `I` labels etc.\n",
    "\n",
    "[1]: https://www.kaggle.com/raghavendrakotala/fine-tunned-on-roberta-base-as-ner-problem-0-533\n",
    "[2]: https://www.kaggle.com/robikscube/student-writing-competition-twitch"
   ]
  },
  {
   "cell_type": "code",
   "execution_count": 28,
   "id": "c1838d24",
   "metadata": {
    "execution": {
     "iopub.execute_input": "2022-02-14T09:45:15.847901Z",
     "iopub.status.busy": "2022-02-14T09:45:15.846975Z",
     "iopub.status.idle": "2022-02-14T09:45:15.848916Z",
     "shell.execute_reply": "2022-02-14T09:45:15.849328Z",
     "shell.execute_reply.started": "2022-02-02T03:15:51.199295Z"
    },
    "papermill": {
     "duration": 0.453679,
     "end_time": "2022-02-14T09:45:15.849464",
     "exception": false,
     "start_time": "2022-02-14T09:45:15.395785",
     "status": "completed"
    },
    "tags": []
   },
   "outputs": [],
   "source": [
    "def inference(batch):\n",
    "                \n",
    "    # MOVE BATCH TO GPU AND INFER\n",
    "    ids = batch[\"input_ids\"].to(config['device'])\n",
    "    mask = batch[\"attention_mask\"].to(config['device'])\n",
    "    outputs = model(ids, attention_mask=mask, return_dict=False)\n",
    "    all_preds = torch.argmax(outputs[0], axis=-1).cpu().numpy() \n",
    "    \n",
    "    # INTERATE THROUGH EACH TEXT AND GET PRED\n",
    "    predictions = []\n",
    "    for k,text_preds in enumerate(all_preds):\n",
    "        token_preds = [ids_to_labels[i] for i in text_preds]\n",
    "\n",
    "        prediction = []\n",
    "        word_ids = batch['wids'][k].numpy()\n",
    "        previous_word_idx = -1\n",
    "        for idx,word_idx in enumerate(word_ids):                            \n",
    "            if word_idx == -1:\n",
    "                pass\n",
    "            elif word_idx != previous_word_idx:              \n",
    "                prediction.append(token_preds[idx])\n",
    "                previous_word_idx = word_idx\n",
    "        predictions.append(prediction)\n",
    "    \n",
    "    return predictions"
   ]
  },
  {
   "cell_type": "code",
   "execution_count": 29,
   "id": "74a541cb",
   "metadata": {
    "execution": {
     "iopub.execute_input": "2022-02-14T09:45:16.991091Z",
     "iopub.status.busy": "2022-02-14T09:45:16.990354Z",
     "iopub.status.idle": "2022-02-14T09:45:16.992408Z",
     "shell.execute_reply": "2022-02-14T09:45:16.992863Z",
     "shell.execute_reply.started": "2022-02-02T03:15:51.201201Z"
    },
    "papermill": {
     "duration": 0.551609,
     "end_time": "2022-02-14T09:45:16.992999",
     "exception": false,
     "start_time": "2022-02-14T09:45:16.441390",
     "status": "completed"
    },
    "tags": []
   },
   "outputs": [],
   "source": [
    "# https://www.kaggle.com/zzy990106/pytorch-ner-infer\n",
    "# code has been modified from original\n",
    "def get_predictions(df=test_dataset, loader=testing_loader):\n",
    "    \n",
    "    # put model in training mode\n",
    "    model.eval()\n",
    "    \n",
    "    # GET WORD LABEL PREDICTIONS\n",
    "    y_pred2 = []\n",
    "    for batch in loader:\n",
    "        labels = inference(batch)\n",
    "        y_pred2.extend(labels)\n",
    "\n",
    "    final_preds2 = []\n",
    "    for i in range(len(df)):\n",
    "\n",
    "        idx = df.id.values[i]\n",
    "        #pred = [x.replace('B-','').replace('I-','') for x in y_pred2[i]]\n",
    "        pred = y_pred2[i] # Leave \"B\" and \"I\"\n",
    "        preds = []\n",
    "        j = 0\n",
    "        while j < len(pred):\n",
    "            cls = pred[j]\n",
    "            # The commented out line below appears to be a bug.\n",
    "#             if cls == 'O': j += 1\n",
    "            if cls == 'O': pass\n",
    "            else: cls = cls.replace('B','I') # spans start with B\n",
    "            end = j + 1\n",
    "            while end < len(pred) and pred[end] == cls:\n",
    "                end += 1\n",
    "            \n",
    "            if cls != 'O' and cls != '' and end - j > 7:\n",
    "                final_preds2.append((idx, cls.replace('I-',''),\n",
    "                                     ' '.join(map(str, list(range(j, end))))))\n",
    "        \n",
    "            j = end\n",
    "        \n",
    "    oof = pd.DataFrame(final_preds2)\n",
    "    oof.columns = ['id','class','predictionstring']\n",
    "\n",
    "    return oof"
   ]
  },
  {
   "cell_type": "code",
   "execution_count": 30,
   "id": "a168f7ab",
   "metadata": {
    "execution": {
     "iopub.execute_input": "2022-02-14T09:45:17.892392Z",
     "iopub.status.busy": "2022-02-14T09:45:17.879612Z",
     "iopub.status.idle": "2022-02-14T09:45:17.894914Z",
     "shell.execute_reply": "2022-02-14T09:45:17.894420Z",
     "shell.execute_reply.started": "2022-02-02T03:15:51.202776Z"
    },
    "papermill": {
     "duration": 0.460573,
     "end_time": "2022-02-14T09:45:17.895039",
     "exception": false,
     "start_time": "2022-02-14T09:45:17.434466",
     "status": "completed"
    },
    "tags": []
   },
   "outputs": [],
   "source": [
    "# from Rob Mulla @robikscube\n",
    "# https://www.kaggle.com/robikscube/student-writing-competition-twitch\n",
    "def calc_overlap(row):\n",
    "    \"\"\"\n",
    "    Calculates the overlap between prediction and\n",
    "    ground truth and overlap percentages used for determining\n",
    "    true positives.\n",
    "    \"\"\"\n",
    "    set_pred = set(row.predictionstring_pred.split(' '))\n",
    "    set_gt = set(row.predictionstring_gt.split(' '))\n",
    "    # Length of each and intersection\n",
    "    len_gt = len(set_gt)\n",
    "    len_pred = len(set_pred)\n",
    "    inter = len(set_gt.intersection(set_pred))\n",
    "    overlap_1 = inter / len_gt\n",
    "    overlap_2 = inter/ len_pred\n",
    "    return [overlap_1, overlap_2]\n",
    "\n",
    "\n",
    "def score_feedback_comp(pred_df, gt_df):\n",
    "    \"\"\"\n",
    "    A function that scores for the kaggle\n",
    "        Student Writing Competition\n",
    "        \n",
    "    Uses the steps in the evaluation page here:\n",
    "        https://www.kaggle.com/c/feedback-prize-2021/overview/evaluation\n",
    "    \"\"\"\n",
    "    gt_df = gt_df[['id','discourse_type','predictionstring']] \\\n",
    "        .reset_index(drop=True).copy()\n",
    "    pred_df = pred_df[['id','class','predictionstring']] \\\n",
    "        .reset_index(drop=True).copy()\n",
    "    pred_df['pred_id'] = pred_df.index\n",
    "    gt_df['gt_id'] = gt_df.index\n",
    "    # Step 1. all ground truths and predictions for a given class are compared.\n",
    "    joined = pred_df.merge(gt_df,\n",
    "                           left_on=['id','class'],\n",
    "                           right_on=['id','discourse_type'],\n",
    "                           how='outer',\n",
    "                           suffixes=('_pred','_gt')\n",
    "                          )\n",
    "    joined['predictionstring_gt'] = joined['predictionstring_gt'].fillna(' ')\n",
    "    joined['predictionstring_pred'] = joined['predictionstring_pred'].fillna(' ')\n",
    "\n",
    "    joined['overlaps'] = joined.apply(calc_overlap, axis=1)\n",
    "\n",
    "    # 2. If the overlap between the ground truth and prediction is >= 0.5, \n",
    "    # and the overlap between the prediction and the ground truth >= 0.5,\n",
    "    # the prediction is a match and considered a true positive.\n",
    "    # If multiple matches exist, the match with the highest pair of overlaps is taken.\n",
    "    joined['overlap1'] = joined['overlaps'].apply(lambda x: eval(str(x))[0])\n",
    "    joined['overlap2'] = joined['overlaps'].apply(lambda x: eval(str(x))[1])\n",
    "\n",
    "\n",
    "    joined['potential_TP'] = (joined['overlap1'] >= 0.5) & (joined['overlap2'] >= 0.5)\n",
    "    joined['max_overlap'] = joined[['overlap1','overlap2']].max(axis=1)\n",
    "    tp_pred_ids = joined.query('potential_TP') \\\n",
    "        .sort_values('max_overlap', ascending=False) \\\n",
    "        .groupby(['id','predictionstring_gt']).first()['pred_id'].values\n",
    "\n",
    "    # 3. Any unmatched ground truths are false negatives\n",
    "    # and any unmatched predictions are false positives.\n",
    "    fp_pred_ids = [p for p in joined['pred_id'].unique() if p not in tp_pred_ids]\n",
    "\n",
    "    matched_gt_ids = joined.query('potential_TP')['gt_id'].unique()\n",
    "    unmatched_gt_ids = [c for c in joined['gt_id'].unique() if c not in matched_gt_ids]\n",
    "\n",
    "    # Get numbers of each type\n",
    "    TP = len(tp_pred_ids)\n",
    "    FP = len(fp_pred_ids)\n",
    "    FN = len(unmatched_gt_ids)\n",
    "    #calc microf1\n",
    "    my_f1_score = TP / (TP + 0.5*(FP+FN))\n",
    "    return my_f1_score"
   ]
  },
  {
   "cell_type": "code",
   "execution_count": 31,
   "id": "87674ebf",
   "metadata": {
    "execution": {
     "iopub.execute_input": "2022-02-14T09:45:18.806203Z",
     "iopub.status.busy": "2022-02-14T09:45:18.805267Z",
     "iopub.status.idle": "2022-02-14T09:47:18.948410Z",
     "shell.execute_reply": "2022-02-14T09:47:18.948912Z",
     "shell.execute_reply.started": "2022-02-02T03:15:51.204923Z"
    },
    "papermill": {
     "duration": 120.611675,
     "end_time": "2022-02-14T09:47:18.949098",
     "exception": false,
     "start_time": "2022-02-14T09:45:18.337423",
     "status": "completed"
    },
    "tags": []
   },
   "outputs": [
    {
     "name": "stdout",
     "output_type": "stream",
     "text": [
      "\n",
      "Position 0.6564885496183206\n",
      "Evidence 0.706768490427869\n",
      "Claim 0.5625537403267412\n",
      "Concluding Statement 0.8174216027874565\n",
      "Lead 0.7813163481953291\n",
      "Counterclaim 0.49907578558225507\n",
      "Rebuttal 0.41687979539641945\n",
      "\n",
      "Overall 0.634357758904913\n",
      "\n"
     ]
    }
   ],
   "source": [
    "if COMPUTE_VAL_SCORE: # note this doesn't run during submit\n",
    "    # VALID TARGETS\n",
    "    valid = train_df.loc[train_df['id'].isin(IDS[valid_idx])]\n",
    "\n",
    "    # OOF PREDICTIONS\n",
    "    oof = get_predictions(test_dataset, testing_loader)\n",
    "\n",
    "    # COMPUTE F1 SCORE\n",
    "    f1s = []\n",
    "    CLASSES = oof['class'].unique()\n",
    "    print()\n",
    "    for c in CLASSES:\n",
    "        pred_df = oof.loc[oof['class']==c].copy()\n",
    "        gt_df = valid.loc[valid['discourse_type']==c].copy()\n",
    "        f1 = score_feedback_comp(pred_df, gt_df)\n",
    "        print(c,f1)\n",
    "        f1s.append(f1)\n",
    "    print()\n",
    "    print('Overall',np.mean(f1s))\n",
    "    print()"
   ]
  },
  {
   "cell_type": "markdown",
   "id": "43d4a097",
   "metadata": {
    "papermill": {
     "duration": 0.452244,
     "end_time": "2022-02-14T09:47:19.846436",
     "exception": false,
     "start_time": "2022-02-14T09:47:19.394192",
     "status": "completed"
    },
    "tags": []
   },
   "source": [
    "# Infer Test Data and Write Submission CSV\n",
    "We will now infer the test data and write submission CSV"
   ]
  },
  {
   "cell_type": "code",
   "execution_count": 32,
   "id": "08a915c3",
   "metadata": {
    "execution": {
     "iopub.execute_input": "2022-02-14T09:47:20.758617Z",
     "iopub.status.busy": "2022-02-14T09:47:20.756696Z",
     "iopub.status.idle": "2022-02-14T09:47:21.633281Z",
     "shell.execute_reply": "2022-02-14T09:47:21.632459Z",
     "shell.execute_reply.started": "2022-02-02T03:15:51.206873Z"
    },
    "papermill": {
     "duration": 1.331879,
     "end_time": "2022-02-14T09:47:21.633449",
     "exception": false,
     "start_time": "2022-02-14T09:47:20.301570",
     "status": "completed"
    },
    "tags": []
   },
   "outputs": [
    {
     "data": {
      "text/html": [
       "<div>\n",
       "<style scoped>\n",
       "    .dataframe tbody tr th:only-of-type {\n",
       "        vertical-align: middle;\n",
       "    }\n",
       "\n",
       "    .dataframe tbody tr th {\n",
       "        vertical-align: top;\n",
       "    }\n",
       "\n",
       "    .dataframe thead th {\n",
       "        text-align: right;\n",
       "    }\n",
       "</style>\n",
       "<table border=\"1\" class=\"dataframe\">\n",
       "  <thead>\n",
       "    <tr style=\"text-align: right;\">\n",
       "      <th></th>\n",
       "      <th>id</th>\n",
       "      <th>class</th>\n",
       "      <th>predictionstring</th>\n",
       "    </tr>\n",
       "  </thead>\n",
       "  <tbody>\n",
       "    <tr>\n",
       "      <th>0</th>\n",
       "      <td>0FB0700DAF44</td>\n",
       "      <td>Lead</td>\n",
       "      <td>0 1 2 3 4 5 6 7 8 9 10 11 12 13 14 15 16 17 18...</td>\n",
       "    </tr>\n",
       "    <tr>\n",
       "      <th>1</th>\n",
       "      <td>0FB0700DAF44</td>\n",
       "      <td>Claim</td>\n",
       "      <td>49 50 51 52 53 54 55 56 57 58 59 60 61 62 63 64</td>\n",
       "    </tr>\n",
       "    <tr>\n",
       "      <th>2</th>\n",
       "      <td>0FB0700DAF44</td>\n",
       "      <td>Claim</td>\n",
       "      <td>66 67 68 69 70 71 72 73 74 75 76 77 78 79 80 8...</td>\n",
       "    </tr>\n",
       "    <tr>\n",
       "      <th>3</th>\n",
       "      <td>0FB0700DAF44</td>\n",
       "      <td>Claim</td>\n",
       "      <td>84 85 86 87 88 89 90 91 92 93 94 95 96 97 98 9...</td>\n",
       "    </tr>\n",
       "    <tr>\n",
       "      <th>4</th>\n",
       "      <td>0FB0700DAF44</td>\n",
       "      <td>Position</td>\n",
       "      <td>109 110 111 112 113 114 115 116 117 118 119</td>\n",
       "    </tr>\n",
       "  </tbody>\n",
       "</table>\n",
       "</div>"
      ],
      "text/plain": [
       "             id     class                                   predictionstring\n",
       "0  0FB0700DAF44      Lead  0 1 2 3 4 5 6 7 8 9 10 11 12 13 14 15 16 17 18...\n",
       "1  0FB0700DAF44     Claim    49 50 51 52 53 54 55 56 57 58 59 60 61 62 63 64\n",
       "2  0FB0700DAF44     Claim  66 67 68 69 70 71 72 73 74 75 76 77 78 79 80 8...\n",
       "3  0FB0700DAF44     Claim  84 85 86 87 88 89 90 91 92 93 94 95 96 97 98 9...\n",
       "4  0FB0700DAF44  Position        109 110 111 112 113 114 115 116 117 118 119"
      ]
     },
     "execution_count": 32,
     "metadata": {},
     "output_type": "execute_result"
    }
   ],
   "source": [
    "sub = get_predictions(test_texts, test_texts_loader)\n",
    "sub.head()"
   ]
  },
  {
   "cell_type": "code",
   "execution_count": 33,
   "id": "3fdbdb97",
   "metadata": {
    "execution": {
     "iopub.execute_input": "2022-02-14T09:47:22.536897Z",
     "iopub.status.busy": "2022-02-14T09:47:22.535826Z",
     "iopub.status.idle": "2022-02-14T09:47:22.542001Z",
     "shell.execute_reply": "2022-02-14T09:47:22.541521Z",
     "shell.execute_reply.started": "2022-02-02T03:15:51.208786Z"
    },
    "papermill": {
     "duration": 0.456665,
     "end_time": "2022-02-14T09:47:22.542121",
     "exception": false,
     "start_time": "2022-02-14T09:47:22.085456",
     "status": "completed"
    },
    "tags": []
   },
   "outputs": [],
   "source": [
    "sub.to_csv(\"submission.csv\", index=False)"
   ]
  },
  {
   "cell_type": "code",
   "execution_count": null,
   "id": "0b82ab42",
   "metadata": {
    "papermill": {
     "duration": 0.439393,
     "end_time": "2022-02-14T09:47:23.423277",
     "exception": false,
     "start_time": "2022-02-14T09:47:22.983884",
     "status": "completed"
    },
    "tags": []
   },
   "outputs": [],
   "source": []
  }
 ],
 "metadata": {
  "kernelspec": {
   "display_name": "Python 3",
   "language": "python",
   "name": "python3"
  },
  "language_info": {
   "codemirror_mode": {
    "name": "ipython",
    "version": 3
   },
   "file_extension": ".py",
   "mimetype": "text/x-python",
   "name": "python",
   "nbconvert_exporter": "python",
   "pygments_lexer": "ipython3",
   "version": "3.7.12"
  },
  "papermill": {
   "default_parameters": {},
   "duration": 16245.633715,
   "end_time": "2022-02-14T09:47:27.460035",
   "environment_variables": {},
   "exception": null,
   "input_path": "__notebook__.ipynb",
   "output_path": "__notebook__.ipynb",
   "parameters": {},
   "start_time": "2022-02-14T05:16:41.826320",
   "version": "2.3.3"
  },
  "widgets": {
   "application/vnd.jupyter.widget-state+json": {
    "state": {
     "01ff97073d7a4673ba552e3dba3fb966": {
      "model_module": "@jupyter-widgets/base",
      "model_module_version": "1.2.0",
      "model_name": "LayoutModel",
      "state": {
       "_model_module": "@jupyter-widgets/base",
       "_model_module_version": "1.2.0",
       "_model_name": "LayoutModel",
       "_view_count": null,
       "_view_module": "@jupyter-widgets/base",
       "_view_module_version": "1.2.0",
       "_view_name": "LayoutView",
       "align_content": null,
       "align_items": null,
       "align_self": null,
       "border": null,
       "bottom": null,
       "display": null,
       "flex": null,
       "flex_flow": null,
       "grid_area": null,
       "grid_auto_columns": null,
       "grid_auto_flow": null,
       "grid_auto_rows": null,
       "grid_column": null,
       "grid_gap": null,
       "grid_row": null,
       "grid_template_areas": null,
       "grid_template_columns": null,
       "grid_template_rows": null,
       "height": null,
       "justify_content": null,
       "justify_items": null,
       "left": null,
       "margin": null,
       "max_height": null,
       "max_width": null,
       "min_height": null,
       "min_width": null,
       "object_fit": null,
       "object_position": null,
       "order": null,
       "overflow": null,
       "overflow_x": null,
       "overflow_y": null,
       "padding": null,
       "right": null,
       "top": null,
       "visibility": null,
       "width": null
      }
     },
     "02415031a9e146fca79eaef72351148c": {
      "model_module": "@jupyter-widgets/base",
      "model_module_version": "1.2.0",
      "model_name": "LayoutModel",
      "state": {
       "_model_module": "@jupyter-widgets/base",
       "_model_module_version": "1.2.0",
       "_model_name": "LayoutModel",
       "_view_count": null,
       "_view_module": "@jupyter-widgets/base",
       "_view_module_version": "1.2.0",
       "_view_name": "LayoutView",
       "align_content": null,
       "align_items": null,
       "align_self": null,
       "border": null,
       "bottom": null,
       "display": null,
       "flex": null,
       "flex_flow": null,
       "grid_area": null,
       "grid_auto_columns": null,
       "grid_auto_flow": null,
       "grid_auto_rows": null,
       "grid_column": null,
       "grid_gap": null,
       "grid_row": null,
       "grid_template_areas": null,
       "grid_template_columns": null,
       "grid_template_rows": null,
       "height": null,
       "justify_content": null,
       "justify_items": null,
       "left": null,
       "margin": null,
       "max_height": null,
       "max_width": null,
       "min_height": null,
       "min_width": null,
       "object_fit": null,
       "object_position": null,
       "order": null,
       "overflow": null,
       "overflow_x": null,
       "overflow_y": null,
       "padding": null,
       "right": null,
       "top": null,
       "visibility": null,
       "width": null
      }
     },
     "076c3602cd7b4e388cae634a1624e8ae": {
      "model_module": "@jupyter-widgets/base",
      "model_module_version": "1.2.0",
      "model_name": "LayoutModel",
      "state": {
       "_model_module": "@jupyter-widgets/base",
       "_model_module_version": "1.2.0",
       "_model_name": "LayoutModel",
       "_view_count": null,
       "_view_module": "@jupyter-widgets/base",
       "_view_module_version": "1.2.0",
       "_view_name": "LayoutView",
       "align_content": null,
       "align_items": null,
       "align_self": null,
       "border": null,
       "bottom": null,
       "display": null,
       "flex": null,
       "flex_flow": null,
       "grid_area": null,
       "grid_auto_columns": null,
       "grid_auto_flow": null,
       "grid_auto_rows": null,
       "grid_column": null,
       "grid_gap": null,
       "grid_row": null,
       "grid_template_areas": null,
       "grid_template_columns": null,
       "grid_template_rows": null,
       "height": null,
       "justify_content": null,
       "justify_items": null,
       "left": null,
       "margin": null,
       "max_height": null,
       "max_width": null,
       "min_height": null,
       "min_width": null,
       "object_fit": null,
       "object_position": null,
       "order": null,
       "overflow": null,
       "overflow_x": null,
       "overflow_y": null,
       "padding": null,
       "right": null,
       "top": null,
       "visibility": null,
       "width": null
      }
     },
     "0ee5f858eb144defbe39e2dd7c7a1235": {
      "model_module": "@jupyter-widgets/controls",
      "model_module_version": "1.5.0",
      "model_name": "ProgressStyleModel",
      "state": {
       "_model_module": "@jupyter-widgets/controls",
       "_model_module_version": "1.5.0",
       "_model_name": "ProgressStyleModel",
       "_view_count": null,
       "_view_module": "@jupyter-widgets/base",
       "_view_module_version": "1.2.0",
       "_view_name": "StyleView",
       "bar_color": null,
       "description_width": ""
      }
     },
     "1726e4a767ae468592f384844f21fa06": {
      "model_module": "@jupyter-widgets/controls",
      "model_module_version": "1.5.0",
      "model_name": "FloatProgressModel",
      "state": {
       "_dom_classes": [],
       "_model_module": "@jupyter-widgets/controls",
       "_model_module_version": "1.5.0",
       "_model_name": "FloatProgressModel",
       "_view_count": null,
       "_view_module": "@jupyter-widgets/controls",
       "_view_module_version": "1.5.0",
       "_view_name": "ProgressView",
       "bar_style": "success",
       "description": "",
       "description_tooltip": null,
       "layout": "IPY_MODEL_5fcfc5eee6a949c3bc454965bba84f87",
       "max": 775.0,
       "min": 0.0,
       "orientation": "horizontal",
       "style": "IPY_MODEL_29ee46c6d1a949b3acdfe84823709938",
       "value": 775.0
      }
     },
     "17bc73499a2c4bf09d9a8fdbfb9a8778": {
      "model_module": "@jupyter-widgets/controls",
      "model_module_version": "1.5.0",
      "model_name": "HBoxModel",
      "state": {
       "_dom_classes": [],
       "_model_module": "@jupyter-widgets/controls",
       "_model_module_version": "1.5.0",
       "_model_name": "HBoxModel",
       "_view_count": null,
       "_view_module": "@jupyter-widgets/controls",
       "_view_module_version": "1.5.0",
       "_view_name": "HBoxView",
       "box_style": "",
       "children": [
        "IPY_MODEL_f62eb52857b540ba979dc8d688cd90d6",
        "IPY_MODEL_6019109707f044b78a0f8be2e6d53838",
        "IPY_MODEL_97ea90dc1ead46c482c984302586ac03"
       ],
       "layout": "IPY_MODEL_9e3f8bd7dbed4ad8bf8a6a9416139e6c"
      }
     },
     "18635e84615844eba3242adda1c74ceb": {
      "model_module": "@jupyter-widgets/base",
      "model_module_version": "1.2.0",
      "model_name": "LayoutModel",
      "state": {
       "_model_module": "@jupyter-widgets/base",
       "_model_module_version": "1.2.0",
       "_model_name": "LayoutModel",
       "_view_count": null,
       "_view_module": "@jupyter-widgets/base",
       "_view_module_version": "1.2.0",
       "_view_name": "LayoutView",
       "align_content": null,
       "align_items": null,
       "align_self": null,
       "border": null,
       "bottom": null,
       "display": null,
       "flex": null,
       "flex_flow": null,
       "grid_area": null,
       "grid_auto_columns": null,
       "grid_auto_flow": null,
       "grid_auto_rows": null,
       "grid_column": null,
       "grid_gap": null,
       "grid_row": null,
       "grid_template_areas": null,
       "grid_template_columns": null,
       "grid_template_rows": null,
       "height": null,
       "justify_content": null,
       "justify_items": null,
       "left": null,
       "margin": null,
       "max_height": null,
       "max_width": null,
       "min_height": null,
       "min_width": null,
       "object_fit": null,
       "object_position": null,
       "order": null,
       "overflow": null,
       "overflow_x": null,
       "overflow_y": null,
       "padding": null,
       "right": null,
       "top": null,
       "visibility": null,
       "width": null
      }
     },
     "1d59d58d3ff54abcb3df06f0c1fe4007": {
      "model_module": "@jupyter-widgets/controls",
      "model_module_version": "1.5.0",
      "model_name": "DescriptionStyleModel",
      "state": {
       "_model_module": "@jupyter-widgets/controls",
       "_model_module_version": "1.5.0",
       "_model_name": "DescriptionStyleModel",
       "_view_count": null,
       "_view_module": "@jupyter-widgets/base",
       "_view_module_version": "1.2.0",
       "_view_name": "StyleView",
       "description_width": ""
      }
     },
     "203d4ea227104a3a84b8b563319284a9": {
      "model_module": "@jupyter-widgets/controls",
      "model_module_version": "1.5.0",
      "model_name": "HBoxModel",
      "state": {
       "_dom_classes": [],
       "_model_module": "@jupyter-widgets/controls",
       "_model_module_version": "1.5.0",
       "_model_name": "HBoxModel",
       "_view_count": null,
       "_view_module": "@jupyter-widgets/controls",
       "_view_module_version": "1.5.0",
       "_view_name": "HBoxView",
       "box_style": "",
       "children": [
        "IPY_MODEL_e647fa9324ba445cbc62d2c23e3a4fff",
        "IPY_MODEL_739a84ff91c6491f9e5db1df87ce9b39",
        "IPY_MODEL_2c1f7ab2f6cb44e3a0fb85957b203fda"
       ],
       "layout": "IPY_MODEL_920e6a3c377c44e8af588d96ed3d14ab"
      }
     },
     "29ee46c6d1a949b3acdfe84823709938": {
      "model_module": "@jupyter-widgets/controls",
      "model_module_version": "1.5.0",
      "model_name": "ProgressStyleModel",
      "state": {
       "_model_module": "@jupyter-widgets/controls",
       "_model_module_version": "1.5.0",
       "_model_name": "ProgressStyleModel",
       "_view_count": null,
       "_view_module": "@jupyter-widgets/base",
       "_view_module_version": "1.2.0",
       "_view_name": "StyleView",
       "bar_color": null,
       "description_width": ""
      }
     },
     "2c1f7ab2f6cb44e3a0fb85957b203fda": {
      "model_module": "@jupyter-widgets/controls",
      "model_module_version": "1.5.0",
      "model_name": "HTMLModel",
      "state": {
       "_dom_classes": [],
       "_model_module": "@jupyter-widgets/controls",
       "_model_module_version": "1.5.0",
       "_model_name": "HTMLModel",
       "_view_count": null,
       "_view_module": "@jupyter-widgets/controls",
       "_view_module_version": "1.5.0",
       "_view_name": "HTMLView",
       "description": "",
       "description_tooltip": null,
       "layout": "IPY_MODEL_076c3602cd7b4e388cae634a1624e8ae",
       "placeholder": "​",
       "style": "IPY_MODEL_ea0610a809d242318e0015fd643a919e",
       "value": " 760/760 [00:00&lt;00:00, 26.9kB/s]"
      }
     },
     "2dc89fa5b618423cac58fe8f698ee9a8": {
      "model_module": "@jupyter-widgets/controls",
      "model_module_version": "1.5.0",
      "model_name": "HTMLModel",
      "state": {
       "_dom_classes": [],
       "_model_module": "@jupyter-widgets/controls",
       "_model_module_version": "1.5.0",
       "_model_name": "HTMLModel",
       "_view_count": null,
       "_view_module": "@jupyter-widgets/controls",
       "_view_module_version": "1.5.0",
       "_view_name": "HTMLView",
       "description": "",
       "description_tooltip": null,
       "layout": "IPY_MODEL_65740641d077413e954e1d68da4d835a",
       "placeholder": "​",
       "style": "IPY_MODEL_1d59d58d3ff54abcb3df06f0c1fe4007",
       "value": " 489M/489M [00:17&lt;00:00, 31.2MB/s]"
      }
     },
     "30fde119765e4a40b87a8a9d00ac5a96": {
      "model_module": "@jupyter-widgets/controls",
      "model_module_version": "1.5.0",
      "model_name": "HTMLModel",
      "state": {
       "_dom_classes": [],
       "_model_module": "@jupyter-widgets/controls",
       "_model_module_version": "1.5.0",
       "_model_name": "HTMLModel",
       "_view_count": null,
       "_view_module": "@jupyter-widgets/controls",
       "_view_module_version": "1.5.0",
       "_view_name": "HTMLView",
       "description": "",
       "description_tooltip": null,
       "layout": "IPY_MODEL_cb1e279a47874a5c81812cb9e2d05496",
       "placeholder": "​",
       "style": "IPY_MODEL_77391bc86c0243aab1bc77f08f487f37",
       "value": "Downloading: 100%"
      }
     },
     "32766c397239469994b1ca6f93ed1e57": {
      "model_module": "@jupyter-widgets/controls",
      "model_module_version": "1.5.0",
      "model_name": "DescriptionStyleModel",
      "state": {
       "_model_module": "@jupyter-widgets/controls",
       "_model_module_version": "1.5.0",
       "_model_name": "DescriptionStyleModel",
       "_view_count": null,
       "_view_module": "@jupyter-widgets/base",
       "_view_module_version": "1.2.0",
       "_view_name": "StyleView",
       "description_width": ""
      }
     },
     "3568728503bf4683ace54fb3eb36030f": {
      "model_module": "@jupyter-widgets/base",
      "model_module_version": "1.2.0",
      "model_name": "LayoutModel",
      "state": {
       "_model_module": "@jupyter-widgets/base",
       "_model_module_version": "1.2.0",
       "_model_name": "LayoutModel",
       "_view_count": null,
       "_view_module": "@jupyter-widgets/base",
       "_view_module_version": "1.2.0",
       "_view_name": "LayoutView",
       "align_content": null,
       "align_items": null,
       "align_self": null,
       "border": null,
       "bottom": null,
       "display": null,
       "flex": null,
       "flex_flow": null,
       "grid_area": null,
       "grid_auto_columns": null,
       "grid_auto_flow": null,
       "grid_auto_rows": null,
       "grid_column": null,
       "grid_gap": null,
       "grid_row": null,
       "grid_template_areas": null,
       "grid_template_columns": null,
       "grid_template_rows": null,
       "height": null,
       "justify_content": null,
       "justify_items": null,
       "left": null,
       "margin": null,
       "max_height": null,
       "max_width": null,
       "min_height": null,
       "min_width": null,
       "object_fit": null,
       "object_position": null,
       "order": null,
       "overflow": null,
       "overflow_x": null,
       "overflow_y": null,
       "padding": null,
       "right": null,
       "top": null,
       "visibility": null,
       "width": null
      }
     },
     "425dbbaaaff2491f8a270759c7ce6439": {
      "model_module": "@jupyter-widgets/base",
      "model_module_version": "1.2.0",
      "model_name": "LayoutModel",
      "state": {
       "_model_module": "@jupyter-widgets/base",
       "_model_module_version": "1.2.0",
       "_model_name": "LayoutModel",
       "_view_count": null,
       "_view_module": "@jupyter-widgets/base",
       "_view_module_version": "1.2.0",
       "_view_name": "LayoutView",
       "align_content": null,
       "align_items": null,
       "align_self": null,
       "border": null,
       "bottom": null,
       "display": null,
       "flex": null,
       "flex_flow": null,
       "grid_area": null,
       "grid_auto_columns": null,
       "grid_auto_flow": null,
       "grid_auto_rows": null,
       "grid_column": null,
       "grid_gap": null,
       "grid_row": null,
       "grid_template_areas": null,
       "grid_template_columns": null,
       "grid_template_rows": null,
       "height": null,
       "justify_content": null,
       "justify_items": null,
       "left": null,
       "margin": null,
       "max_height": null,
       "max_width": null,
       "min_height": null,
       "min_width": null,
       "object_fit": null,
       "object_position": null,
       "order": null,
       "overflow": null,
       "overflow_x": null,
       "overflow_y": null,
       "padding": null,
       "right": null,
       "top": null,
       "visibility": null,
       "width": null
      }
     },
     "43cbb6a8bb38468da083f15aba3c68bd": {
      "model_module": "@jupyter-widgets/base",
      "model_module_version": "1.2.0",
      "model_name": "LayoutModel",
      "state": {
       "_model_module": "@jupyter-widgets/base",
       "_model_module_version": "1.2.0",
       "_model_name": "LayoutModel",
       "_view_count": null,
       "_view_module": "@jupyter-widgets/base",
       "_view_module_version": "1.2.0",
       "_view_name": "LayoutView",
       "align_content": null,
       "align_items": null,
       "align_self": null,
       "border": null,
       "bottom": null,
       "display": null,
       "flex": null,
       "flex_flow": null,
       "grid_area": null,
       "grid_auto_columns": null,
       "grid_auto_flow": null,
       "grid_auto_rows": null,
       "grid_column": null,
       "grid_gap": null,
       "grid_row": null,
       "grid_template_areas": null,
       "grid_template_columns": null,
       "grid_template_rows": null,
       "height": null,
       "justify_content": null,
       "justify_items": null,
       "left": null,
       "margin": null,
       "max_height": null,
       "max_width": null,
       "min_height": null,
       "min_width": null,
       "object_fit": null,
       "object_position": null,
       "order": null,
       "overflow": null,
       "overflow_x": null,
       "overflow_y": null,
       "padding": null,
       "right": null,
       "top": null,
       "visibility": null,
       "width": null
      }
     },
     "45a72bac9b9d47ea809cb6b2fc52f5f7": {
      "model_module": "@jupyter-widgets/base",
      "model_module_version": "1.2.0",
      "model_name": "LayoutModel",
      "state": {
       "_model_module": "@jupyter-widgets/base",
       "_model_module_version": "1.2.0",
       "_model_name": "LayoutModel",
       "_view_count": null,
       "_view_module": "@jupyter-widgets/base",
       "_view_module_version": "1.2.0",
       "_view_name": "LayoutView",
       "align_content": null,
       "align_items": null,
       "align_self": null,
       "border": null,
       "bottom": null,
       "display": null,
       "flex": null,
       "flex_flow": null,
       "grid_area": null,
       "grid_auto_columns": null,
       "grid_auto_flow": null,
       "grid_auto_rows": null,
       "grid_column": null,
       "grid_gap": null,
       "grid_row": null,
       "grid_template_areas": null,
       "grid_template_columns": null,
       "grid_template_rows": null,
       "height": null,
       "justify_content": null,
       "justify_items": null,
       "left": null,
       "margin": null,
       "max_height": null,
       "max_width": null,
       "min_height": null,
       "min_width": null,
       "object_fit": null,
       "object_position": null,
       "order": null,
       "overflow": null,
       "overflow_x": null,
       "overflow_y": null,
       "padding": null,
       "right": null,
       "top": null,
       "visibility": null,
       "width": null
      }
     },
     "5c89ee75c03248aa92a3df0c70a5e959": {
      "model_module": "@jupyter-widgets/controls",
      "model_module_version": "1.5.0",
      "model_name": "HTMLModel",
      "state": {
       "_dom_classes": [],
       "_model_module": "@jupyter-widgets/controls",
       "_model_module_version": "1.5.0",
       "_model_name": "HTMLModel",
       "_view_count": null,
       "_view_module": "@jupyter-widgets/controls",
       "_view_module_version": "1.5.0",
       "_view_name": "HTMLView",
       "description": "",
       "description_tooltip": null,
       "layout": "IPY_MODEL_18635e84615844eba3242adda1c74ceb",
       "placeholder": "​",
       "style": "IPY_MODEL_f16f72a63a78406bbff646843aede908",
       "value": "Downloading: 100%"
      }
     },
     "5fcfc5eee6a949c3bc454965bba84f87": {
      "model_module": "@jupyter-widgets/base",
      "model_module_version": "1.2.0",
      "model_name": "LayoutModel",
      "state": {
       "_model_module": "@jupyter-widgets/base",
       "_model_module_version": "1.2.0",
       "_model_name": "LayoutModel",
       "_view_count": null,
       "_view_module": "@jupyter-widgets/base",
       "_view_module_version": "1.2.0",
       "_view_name": "LayoutView",
       "align_content": null,
       "align_items": null,
       "align_self": null,
       "border": null,
       "bottom": null,
       "display": null,
       "flex": null,
       "flex_flow": null,
       "grid_area": null,
       "grid_auto_columns": null,
       "grid_auto_flow": null,
       "grid_auto_rows": null,
       "grid_column": null,
       "grid_gap": null,
       "grid_row": null,
       "grid_template_areas": null,
       "grid_template_columns": null,
       "grid_template_rows": null,
       "height": null,
       "justify_content": null,
       "justify_items": null,
       "left": null,
       "margin": null,
       "max_height": null,
       "max_width": null,
       "min_height": null,
       "min_width": null,
       "object_fit": null,
       "object_position": null,
       "order": null,
       "overflow": null,
       "overflow_x": null,
       "overflow_y": null,
       "padding": null,
       "right": null,
       "top": null,
       "visibility": null,
       "width": null
      }
     },
     "6019109707f044b78a0f8be2e6d53838": {
      "model_module": "@jupyter-widgets/controls",
      "model_module_version": "1.5.0",
      "model_name": "FloatProgressModel",
      "state": {
       "_dom_classes": [],
       "_model_module": "@jupyter-widgets/controls",
       "_model_module_version": "1.5.0",
       "_model_name": "FloatProgressModel",
       "_view_count": null,
       "_view_module": "@jupyter-widgets/controls",
       "_view_module_version": "1.5.0",
       "_view_name": "ProgressView",
       "bar_style": "success",
       "description": "",
       "description_tooltip": null,
       "layout": "IPY_MODEL_02415031a9e146fca79eaef72351148c",
       "max": 1017.0,
       "min": 0.0,
       "orientation": "horizontal",
       "style": "IPY_MODEL_685b25c015f64e08a7007a41af1802ac",
       "value": 1017.0
      }
     },
     "63d3dbaf3ac94d5385c62ecfd3b811c3": {
      "model_module": "@jupyter-widgets/controls",
      "model_module_version": "1.5.0",
      "model_name": "HBoxModel",
      "state": {
       "_dom_classes": [],
       "_model_module": "@jupyter-widgets/controls",
       "_model_module_version": "1.5.0",
       "_model_name": "HBoxModel",
       "_view_count": null,
       "_view_module": "@jupyter-widgets/controls",
       "_view_module_version": "1.5.0",
       "_view_name": "HBoxView",
       "box_style": "",
       "children": [
        "IPY_MODEL_30fde119765e4a40b87a8a9d00ac5a96",
        "IPY_MODEL_f04b58ae22d44936a9ff9f9d2b4461e2",
        "IPY_MODEL_ef1bccbbe5ac4988874ccc7c1dd68b9a"
       ],
       "layout": "IPY_MODEL_01ff97073d7a4673ba552e3dba3fb966"
      }
     },
     "65740641d077413e954e1d68da4d835a": {
      "model_module": "@jupyter-widgets/base",
      "model_module_version": "1.2.0",
      "model_name": "LayoutModel",
      "state": {
       "_model_module": "@jupyter-widgets/base",
       "_model_module_version": "1.2.0",
       "_model_name": "LayoutModel",
       "_view_count": null,
       "_view_module": "@jupyter-widgets/base",
       "_view_module_version": "1.2.0",
       "_view_name": "LayoutView",
       "align_content": null,
       "align_items": null,
       "align_self": null,
       "border": null,
       "bottom": null,
       "display": null,
       "flex": null,
       "flex_flow": null,
       "grid_area": null,
       "grid_auto_columns": null,
       "grid_auto_flow": null,
       "grid_auto_rows": null,
       "grid_column": null,
       "grid_gap": null,
       "grid_row": null,
       "grid_template_areas": null,
       "grid_template_columns": null,
       "grid_template_rows": null,
       "height": null,
       "justify_content": null,
       "justify_items": null,
       "left": null,
       "margin": null,
       "max_height": null,
       "max_width": null,
       "min_height": null,
       "min_width": null,
       "object_fit": null,
       "object_position": null,
       "order": null,
       "overflow": null,
       "overflow_x": null,
       "overflow_y": null,
       "padding": null,
       "right": null,
       "top": null,
       "visibility": null,
       "width": null
      }
     },
     "685b25c015f64e08a7007a41af1802ac": {
      "model_module": "@jupyter-widgets/controls",
      "model_module_version": "1.5.0",
      "model_name": "ProgressStyleModel",
      "state": {
       "_model_module": "@jupyter-widgets/controls",
       "_model_module_version": "1.5.0",
       "_model_name": "ProgressStyleModel",
       "_view_count": null,
       "_view_module": "@jupyter-widgets/base",
       "_view_module_version": "1.2.0",
       "_view_name": "StyleView",
       "bar_color": null,
       "description_width": ""
      }
     },
     "739a84ff91c6491f9e5db1df87ce9b39": {
      "model_module": "@jupyter-widgets/controls",
      "model_module_version": "1.5.0",
      "model_name": "FloatProgressModel",
      "state": {
       "_dom_classes": [],
       "_model_module": "@jupyter-widgets/controls",
       "_model_module_version": "1.5.0",
       "_model_name": "FloatProgressModel",
       "_view_count": null,
       "_view_module": "@jupyter-widgets/controls",
       "_view_module_version": "1.5.0",
       "_view_name": "ProgressView",
       "bar_style": "success",
       "description": "",
       "description_tooltip": null,
       "layout": "IPY_MODEL_c3efd3e8758542ff8181adcd898984d9",
       "max": 760.0,
       "min": 0.0,
       "orientation": "horizontal",
       "style": "IPY_MODEL_e1aaf95534b349b8ae1a737de3fea29e",
       "value": 760.0
      }
     },
     "7669fb2c77cf4d49afa94e3caec263b7": {
      "model_module": "@jupyter-widgets/controls",
      "model_module_version": "1.5.0",
      "model_name": "ProgressStyleModel",
      "state": {
       "_model_module": "@jupyter-widgets/controls",
       "_model_module_version": "1.5.0",
       "_model_name": "ProgressStyleModel",
       "_view_count": null,
       "_view_module": "@jupyter-widgets/base",
       "_view_module_version": "1.2.0",
       "_view_name": "StyleView",
       "bar_color": null,
       "description_width": ""
      }
     },
     "76736770a30043d4a1d4510a0854aab2": {
      "model_module": "@jupyter-widgets/controls",
      "model_module_version": "1.5.0",
      "model_name": "HTMLModel",
      "state": {
       "_dom_classes": [],
       "_model_module": "@jupyter-widgets/controls",
       "_model_module_version": "1.5.0",
       "_model_name": "HTMLModel",
       "_view_count": null,
       "_view_module": "@jupyter-widgets/controls",
       "_view_module_version": "1.5.0",
       "_view_name": "HTMLView",
       "description": "",
       "description_tooltip": null,
       "layout": "IPY_MODEL_ff50c010dc594fec885b1dd926d8156e",
       "placeholder": "​",
       "style": "IPY_MODEL_b30ce7c0f02d4ab4a66e1c5ddcbdea87",
       "value": "Downloading: 100%"
      }
     },
     "77391bc86c0243aab1bc77f08f487f37": {
      "model_module": "@jupyter-widgets/controls",
      "model_module_version": "1.5.0",
      "model_name": "DescriptionStyleModel",
      "state": {
       "_model_module": "@jupyter-widgets/controls",
       "_model_module_version": "1.5.0",
       "_model_name": "DescriptionStyleModel",
       "_view_count": null,
       "_view_module": "@jupyter-widgets/base",
       "_view_module_version": "1.2.0",
       "_view_name": "StyleView",
       "description_width": ""
      }
     },
     "785eabbf3d094cf297bad1dfe67fc88c": {
      "model_module": "@jupyter-widgets/base",
      "model_module_version": "1.2.0",
      "model_name": "LayoutModel",
      "state": {
       "_model_module": "@jupyter-widgets/base",
       "_model_module_version": "1.2.0",
       "_model_name": "LayoutModel",
       "_view_count": null,
       "_view_module": "@jupyter-widgets/base",
       "_view_module_version": "1.2.0",
       "_view_name": "LayoutView",
       "align_content": null,
       "align_items": null,
       "align_self": null,
       "border": null,
       "bottom": null,
       "display": null,
       "flex": null,
       "flex_flow": null,
       "grid_area": null,
       "grid_auto_columns": null,
       "grid_auto_flow": null,
       "grid_auto_rows": null,
       "grid_column": null,
       "grid_gap": null,
       "grid_row": null,
       "grid_template_areas": null,
       "grid_template_columns": null,
       "grid_template_rows": null,
       "height": null,
       "justify_content": null,
       "justify_items": null,
       "left": null,
       "margin": null,
       "max_height": null,
       "max_width": null,
       "min_height": null,
       "min_width": null,
       "object_fit": null,
       "object_position": null,
       "order": null,
       "overflow": null,
       "overflow_x": null,
       "overflow_y": null,
       "padding": null,
       "right": null,
       "top": null,
       "visibility": null,
       "width": null
      }
     },
     "797c967d0048440eb1e0a5f097aa46a8": {
      "model_module": "@jupyter-widgets/controls",
      "model_module_version": "1.5.0",
      "model_name": "DescriptionStyleModel",
      "state": {
       "_model_module": "@jupyter-widgets/controls",
       "_model_module_version": "1.5.0",
       "_model_name": "DescriptionStyleModel",
       "_view_count": null,
       "_view_module": "@jupyter-widgets/base",
       "_view_module_version": "1.2.0",
       "_view_name": "StyleView",
       "description_width": ""
      }
     },
     "8e0e327857f646aaa8bb67e5319582b4": {
      "model_module": "@jupyter-widgets/controls",
      "model_module_version": "1.5.0",
      "model_name": "DescriptionStyleModel",
      "state": {
       "_model_module": "@jupyter-widgets/controls",
       "_model_module_version": "1.5.0",
       "_model_name": "DescriptionStyleModel",
       "_view_count": null,
       "_view_module": "@jupyter-widgets/base",
       "_view_module_version": "1.2.0",
       "_view_name": "StyleView",
       "description_width": ""
      }
     },
     "91e8612cbd0a412abc9a22e90879fb2e": {
      "model_module": "@jupyter-widgets/base",
      "model_module_version": "1.2.0",
      "model_name": "LayoutModel",
      "state": {
       "_model_module": "@jupyter-widgets/base",
       "_model_module_version": "1.2.0",
       "_model_name": "LayoutModel",
       "_view_count": null,
       "_view_module": "@jupyter-widgets/base",
       "_view_module_version": "1.2.0",
       "_view_name": "LayoutView",
       "align_content": null,
       "align_items": null,
       "align_self": null,
       "border": null,
       "bottom": null,
       "display": null,
       "flex": null,
       "flex_flow": null,
       "grid_area": null,
       "grid_auto_columns": null,
       "grid_auto_flow": null,
       "grid_auto_rows": null,
       "grid_column": null,
       "grid_gap": null,
       "grid_row": null,
       "grid_template_areas": null,
       "grid_template_columns": null,
       "grid_template_rows": null,
       "height": null,
       "justify_content": null,
       "justify_items": null,
       "left": null,
       "margin": null,
       "max_height": null,
       "max_width": null,
       "min_height": null,
       "min_width": null,
       "object_fit": null,
       "object_position": null,
       "order": null,
       "overflow": null,
       "overflow_x": null,
       "overflow_y": null,
       "padding": null,
       "right": null,
       "top": null,
       "visibility": null,
       "width": null
      }
     },
     "920e6a3c377c44e8af588d96ed3d14ab": {
      "model_module": "@jupyter-widgets/base",
      "model_module_version": "1.2.0",
      "model_name": "LayoutModel",
      "state": {
       "_model_module": "@jupyter-widgets/base",
       "_model_module_version": "1.2.0",
       "_model_name": "LayoutModel",
       "_view_count": null,
       "_view_module": "@jupyter-widgets/base",
       "_view_module_version": "1.2.0",
       "_view_name": "LayoutView",
       "align_content": null,
       "align_items": null,
       "align_self": null,
       "border": null,
       "bottom": null,
       "display": null,
       "flex": null,
       "flex_flow": null,
       "grid_area": null,
       "grid_auto_columns": null,
       "grid_auto_flow": null,
       "grid_auto_rows": null,
       "grid_column": null,
       "grid_gap": null,
       "grid_row": null,
       "grid_template_areas": null,
       "grid_template_columns": null,
       "grid_template_rows": null,
       "height": null,
       "justify_content": null,
       "justify_items": null,
       "left": null,
       "margin": null,
       "max_height": null,
       "max_width": null,
       "min_height": null,
       "min_width": null,
       "object_fit": null,
       "object_position": null,
       "order": null,
       "overflow": null,
       "overflow_x": null,
       "overflow_y": null,
       "padding": null,
       "right": null,
       "top": null,
       "visibility": null,
       "width": null
      }
     },
     "97ea90dc1ead46c482c984302586ac03": {
      "model_module": "@jupyter-widgets/controls",
      "model_module_version": "1.5.0",
      "model_name": "HTMLModel",
      "state": {
       "_dom_classes": [],
       "_model_module": "@jupyter-widgets/controls",
       "_model_module_version": "1.5.0",
       "_model_name": "HTMLModel",
       "_view_count": null,
       "_view_module": "@jupyter-widgets/controls",
       "_view_module_version": "1.5.0",
       "_view_name": "HTMLView",
       "description": "",
       "description_tooltip": null,
       "layout": "IPY_MODEL_45a72bac9b9d47ea809cb6b2fc52f5f7",
       "placeholder": "​",
       "style": "IPY_MODEL_32766c397239469994b1ca6f93ed1e57",
       "value": " 0.99k/0.99k [00:00&lt;00:00, 38.9kB/s]"
      }
     },
     "9d1eb3db578e45ada19c02bdbc130f8a": {
      "model_module": "@jupyter-widgets/controls",
      "model_module_version": "1.5.0",
      "model_name": "FloatProgressModel",
      "state": {
       "_dom_classes": [],
       "_model_module": "@jupyter-widgets/controls",
       "_model_module_version": "1.5.0",
       "_model_name": "FloatProgressModel",
       "_view_count": null,
       "_view_module": "@jupyter-widgets/controls",
       "_view_module_version": "1.5.0",
       "_view_name": "ProgressView",
       "bar_style": "success",
       "description": "",
       "description_tooltip": null,
       "layout": "IPY_MODEL_e77e28715795455f8f0ff849441a61e3",
       "max": 512568261.0,
       "min": 0.0,
       "orientation": "horizontal",
       "style": "IPY_MODEL_0ee5f858eb144defbe39e2dd7c7a1235",
       "value": 512568261.0
      }
     },
     "9e3f8bd7dbed4ad8bf8a6a9416139e6c": {
      "model_module": "@jupyter-widgets/base",
      "model_module_version": "1.2.0",
      "model_name": "LayoutModel",
      "state": {
       "_model_module": "@jupyter-widgets/base",
       "_model_module_version": "1.2.0",
       "_model_name": "LayoutModel",
       "_view_count": null,
       "_view_module": "@jupyter-widgets/base",
       "_view_module_version": "1.2.0",
       "_view_name": "LayoutView",
       "align_content": null,
       "align_items": null,
       "align_self": null,
       "border": null,
       "bottom": null,
       "display": null,
       "flex": null,
       "flex_flow": null,
       "grid_area": null,
       "grid_auto_columns": null,
       "grid_auto_flow": null,
       "grid_auto_rows": null,
       "grid_column": null,
       "grid_gap": null,
       "grid_row": null,
       "grid_template_areas": null,
       "grid_template_columns": null,
       "grid_template_rows": null,
       "height": null,
       "justify_content": null,
       "justify_items": null,
       "left": null,
       "margin": null,
       "max_height": null,
       "max_width": null,
       "min_height": null,
       "min_width": null,
       "object_fit": null,
       "object_position": null,
       "order": null,
       "overflow": null,
       "overflow_x": null,
       "overflow_y": null,
       "padding": null,
       "right": null,
       "top": null,
       "visibility": null,
       "width": null
      }
     },
     "a93435c9fda5436b8a1b140efe2a709f": {
      "model_module": "@jupyter-widgets/controls",
      "model_module_version": "1.5.0",
      "model_name": "DescriptionStyleModel",
      "state": {
       "_model_module": "@jupyter-widgets/controls",
       "_model_module_version": "1.5.0",
       "_model_name": "DescriptionStyleModel",
       "_view_count": null,
       "_view_module": "@jupyter-widgets/base",
       "_view_module_version": "1.2.0",
       "_view_name": "StyleView",
       "description_width": ""
      }
     },
     "ae58daa28a8c45418675e0a416560120": {
      "model_module": "@jupyter-widgets/controls",
      "model_module_version": "1.5.0",
      "model_name": "DescriptionStyleModel",
      "state": {
       "_model_module": "@jupyter-widgets/controls",
       "_model_module_version": "1.5.0",
       "_model_name": "DescriptionStyleModel",
       "_view_count": null,
       "_view_module": "@jupyter-widgets/base",
       "_view_module_version": "1.2.0",
       "_view_name": "StyleView",
       "description_width": ""
      }
     },
     "b30ce7c0f02d4ab4a66e1c5ddcbdea87": {
      "model_module": "@jupyter-widgets/controls",
      "model_module_version": "1.5.0",
      "model_name": "DescriptionStyleModel",
      "state": {
       "_model_module": "@jupyter-widgets/controls",
       "_model_module_version": "1.5.0",
       "_model_name": "DescriptionStyleModel",
       "_view_count": null,
       "_view_module": "@jupyter-widgets/base",
       "_view_module_version": "1.2.0",
       "_view_name": "StyleView",
       "description_width": ""
      }
     },
     "ba451953e8e14dd2b26243baf6b5d1db": {
      "model_module": "@jupyter-widgets/controls",
      "model_module_version": "1.5.0",
      "model_name": "HTMLModel",
      "state": {
       "_dom_classes": [],
       "_model_module": "@jupyter-widgets/controls",
       "_model_module_version": "1.5.0",
       "_model_name": "HTMLModel",
       "_view_count": null,
       "_view_module": "@jupyter-widgets/controls",
       "_view_module_version": "1.5.0",
       "_view_name": "HTMLView",
       "description": "",
       "description_tooltip": null,
       "layout": "IPY_MODEL_425dbbaaaff2491f8a270759c7ce6439",
       "placeholder": "​",
       "style": "IPY_MODEL_ae58daa28a8c45418675e0a416560120",
       "value": " 775/775 [00:00&lt;00:00, 26.9kB/s]"
      }
     },
     "bc446535a5f441bd8f60609090f0c692": {
      "model_module": "@jupyter-widgets/base",
      "model_module_version": "1.2.0",
      "model_name": "LayoutModel",
      "state": {
       "_model_module": "@jupyter-widgets/base",
       "_model_module_version": "1.2.0",
       "_model_name": "LayoutModel",
       "_view_count": null,
       "_view_module": "@jupyter-widgets/base",
       "_view_module_version": "1.2.0",
       "_view_name": "LayoutView",
       "align_content": null,
       "align_items": null,
       "align_self": null,
       "border": null,
       "bottom": null,
       "display": null,
       "flex": null,
       "flex_flow": null,
       "grid_area": null,
       "grid_auto_columns": null,
       "grid_auto_flow": null,
       "grid_auto_rows": null,
       "grid_column": null,
       "grid_gap": null,
       "grid_row": null,
       "grid_template_areas": null,
       "grid_template_columns": null,
       "grid_template_rows": null,
       "height": null,
       "justify_content": null,
       "justify_items": null,
       "left": null,
       "margin": null,
       "max_height": null,
       "max_width": null,
       "min_height": null,
       "min_width": null,
       "object_fit": null,
       "object_position": null,
       "order": null,
       "overflow": null,
       "overflow_x": null,
       "overflow_y": null,
       "padding": null,
       "right": null,
       "top": null,
       "visibility": null,
       "width": null
      }
     },
     "c3efd3e8758542ff8181adcd898984d9": {
      "model_module": "@jupyter-widgets/base",
      "model_module_version": "1.2.0",
      "model_name": "LayoutModel",
      "state": {
       "_model_module": "@jupyter-widgets/base",
       "_model_module_version": "1.2.0",
       "_model_name": "LayoutModel",
       "_view_count": null,
       "_view_module": "@jupyter-widgets/base",
       "_view_module_version": "1.2.0",
       "_view_name": "LayoutView",
       "align_content": null,
       "align_items": null,
       "align_self": null,
       "border": null,
       "bottom": null,
       "display": null,
       "flex": null,
       "flex_flow": null,
       "grid_area": null,
       "grid_auto_columns": null,
       "grid_auto_flow": null,
       "grid_auto_rows": null,
       "grid_column": null,
       "grid_gap": null,
       "grid_row": null,
       "grid_template_areas": null,
       "grid_template_columns": null,
       "grid_template_rows": null,
       "height": null,
       "justify_content": null,
       "justify_items": null,
       "left": null,
       "margin": null,
       "max_height": null,
       "max_width": null,
       "min_height": null,
       "min_width": null,
       "object_fit": null,
       "object_position": null,
       "order": null,
       "overflow": null,
       "overflow_x": null,
       "overflow_y": null,
       "padding": null,
       "right": null,
       "top": null,
       "visibility": null,
       "width": null
      }
     },
     "cb1e279a47874a5c81812cb9e2d05496": {
      "model_module": "@jupyter-widgets/base",
      "model_module_version": "1.2.0",
      "model_name": "LayoutModel",
      "state": {
       "_model_module": "@jupyter-widgets/base",
       "_model_module_version": "1.2.0",
       "_model_name": "LayoutModel",
       "_view_count": null,
       "_view_module": "@jupyter-widgets/base",
       "_view_module_version": "1.2.0",
       "_view_name": "LayoutView",
       "align_content": null,
       "align_items": null,
       "align_self": null,
       "border": null,
       "bottom": null,
       "display": null,
       "flex": null,
       "flex_flow": null,
       "grid_area": null,
       "grid_auto_columns": null,
       "grid_auto_flow": null,
       "grid_auto_rows": null,
       "grid_column": null,
       "grid_gap": null,
       "grid_row": null,
       "grid_template_areas": null,
       "grid_template_columns": null,
       "grid_template_rows": null,
       "height": null,
       "justify_content": null,
       "justify_items": null,
       "left": null,
       "margin": null,
       "max_height": null,
       "max_width": null,
       "min_height": null,
       "min_width": null,
       "object_fit": null,
       "object_position": null,
       "order": null,
       "overflow": null,
       "overflow_x": null,
       "overflow_y": null,
       "padding": null,
       "right": null,
       "top": null,
       "visibility": null,
       "width": null
      }
     },
     "d83600fcede346a3af964323f3c388d3": {
      "model_module": "@jupyter-widgets/base",
      "model_module_version": "1.2.0",
      "model_name": "LayoutModel",
      "state": {
       "_model_module": "@jupyter-widgets/base",
       "_model_module_version": "1.2.0",
       "_model_name": "LayoutModel",
       "_view_count": null,
       "_view_module": "@jupyter-widgets/base",
       "_view_module_version": "1.2.0",
       "_view_name": "LayoutView",
       "align_content": null,
       "align_items": null,
       "align_self": null,
       "border": null,
       "bottom": null,
       "display": null,
       "flex": null,
       "flex_flow": null,
       "grid_area": null,
       "grid_auto_columns": null,
       "grid_auto_flow": null,
       "grid_auto_rows": null,
       "grid_column": null,
       "grid_gap": null,
       "grid_row": null,
       "grid_template_areas": null,
       "grid_template_columns": null,
       "grid_template_rows": null,
       "height": null,
       "justify_content": null,
       "justify_items": null,
       "left": null,
       "margin": null,
       "max_height": null,
       "max_width": null,
       "min_height": null,
       "min_width": null,
       "object_fit": null,
       "object_position": null,
       "order": null,
       "overflow": null,
       "overflow_x": null,
       "overflow_y": null,
       "padding": null,
       "right": null,
       "top": null,
       "visibility": null,
       "width": null
      }
     },
     "e1aaf95534b349b8ae1a737de3fea29e": {
      "model_module": "@jupyter-widgets/controls",
      "model_module_version": "1.5.0",
      "model_name": "ProgressStyleModel",
      "state": {
       "_model_module": "@jupyter-widgets/controls",
       "_model_module_version": "1.5.0",
       "_model_name": "ProgressStyleModel",
       "_view_count": null,
       "_view_module": "@jupyter-widgets/base",
       "_view_module_version": "1.2.0",
       "_view_name": "StyleView",
       "bar_color": null,
       "description_width": ""
      }
     },
     "e647fa9324ba445cbc62d2c23e3a4fff": {
      "model_module": "@jupyter-widgets/controls",
      "model_module_version": "1.5.0",
      "model_name": "HTMLModel",
      "state": {
       "_dom_classes": [],
       "_model_module": "@jupyter-widgets/controls",
       "_model_module_version": "1.5.0",
       "_model_name": "HTMLModel",
       "_view_count": null,
       "_view_module": "@jupyter-widgets/controls",
       "_view_module_version": "1.5.0",
       "_view_name": "HTMLView",
       "description": "",
       "description_tooltip": null,
       "layout": "IPY_MODEL_3568728503bf4683ace54fb3eb36030f",
       "placeholder": "​",
       "style": "IPY_MODEL_8e0e327857f646aaa8bb67e5319582b4",
       "value": "Downloading: 100%"
      }
     },
     "e77e28715795455f8f0ff849441a61e3": {
      "model_module": "@jupyter-widgets/base",
      "model_module_version": "1.2.0",
      "model_name": "LayoutModel",
      "state": {
       "_model_module": "@jupyter-widgets/base",
       "_model_module_version": "1.2.0",
       "_model_name": "LayoutModel",
       "_view_count": null,
       "_view_module": "@jupyter-widgets/base",
       "_view_module_version": "1.2.0",
       "_view_name": "LayoutView",
       "align_content": null,
       "align_items": null,
       "align_self": null,
       "border": null,
       "bottom": null,
       "display": null,
       "flex": null,
       "flex_flow": null,
       "grid_area": null,
       "grid_auto_columns": null,
       "grid_auto_flow": null,
       "grid_auto_rows": null,
       "grid_column": null,
       "grid_gap": null,
       "grid_row": null,
       "grid_template_areas": null,
       "grid_template_columns": null,
       "grid_template_rows": null,
       "height": null,
       "justify_content": null,
       "justify_items": null,
       "left": null,
       "margin": null,
       "max_height": null,
       "max_width": null,
       "min_height": null,
       "min_width": null,
       "object_fit": null,
       "object_position": null,
       "order": null,
       "overflow": null,
       "overflow_x": null,
       "overflow_y": null,
       "padding": null,
       "right": null,
       "top": null,
       "visibility": null,
       "width": null
      }
     },
     "e7af8ca5bddc49c69bfe69265ec829a4": {
      "model_module": "@jupyter-widgets/controls",
      "model_module_version": "1.5.0",
      "model_name": "HBoxModel",
      "state": {
       "_dom_classes": [],
       "_model_module": "@jupyter-widgets/controls",
       "_model_module_version": "1.5.0",
       "_model_name": "HBoxModel",
       "_view_count": null,
       "_view_module": "@jupyter-widgets/controls",
       "_view_module_version": "1.5.0",
       "_view_name": "HBoxView",
       "box_style": "",
       "children": [
        "IPY_MODEL_5c89ee75c03248aa92a3df0c70a5e959",
        "IPY_MODEL_9d1eb3db578e45ada19c02bdbc130f8a",
        "IPY_MODEL_2dc89fa5b618423cac58fe8f698ee9a8"
       ],
       "layout": "IPY_MODEL_785eabbf3d094cf297bad1dfe67fc88c"
      }
     },
     "ea0610a809d242318e0015fd643a919e": {
      "model_module": "@jupyter-widgets/controls",
      "model_module_version": "1.5.0",
      "model_name": "DescriptionStyleModel",
      "state": {
       "_model_module": "@jupyter-widgets/controls",
       "_model_module_version": "1.5.0",
       "_model_name": "DescriptionStyleModel",
       "_view_count": null,
       "_view_module": "@jupyter-widgets/base",
       "_view_module_version": "1.2.0",
       "_view_name": "StyleView",
       "description_width": ""
      }
     },
     "ef1bccbbe5ac4988874ccc7c1dd68b9a": {
      "model_module": "@jupyter-widgets/controls",
      "model_module_version": "1.5.0",
      "model_name": "HTMLModel",
      "state": {
       "_dom_classes": [],
       "_model_module": "@jupyter-widgets/controls",
       "_model_module_version": "1.5.0",
       "_model_name": "HTMLModel",
       "_view_count": null,
       "_view_module": "@jupyter-widgets/controls",
       "_view_module_version": "1.5.0",
       "_view_name": "HTMLView",
       "description": "",
       "description_tooltip": null,
       "layout": "IPY_MODEL_43cbb6a8bb38468da083f15aba3c68bd",
       "placeholder": "​",
       "style": "IPY_MODEL_797c967d0048440eb1e0a5f097aa46a8",
       "value": " 826k/826k [00:00&lt;00:00, 1.65MB/s]"
      }
     },
     "f04b58ae22d44936a9ff9f9d2b4461e2": {
      "model_module": "@jupyter-widgets/controls",
      "model_module_version": "1.5.0",
      "model_name": "FloatProgressModel",
      "state": {
       "_dom_classes": [],
       "_model_module": "@jupyter-widgets/controls",
       "_model_module_version": "1.5.0",
       "_model_name": "FloatProgressModel",
       "_view_count": null,
       "_view_module": "@jupyter-widgets/controls",
       "_view_module_version": "1.5.0",
       "_view_name": "ProgressView",
       "bar_style": "success",
       "description": "",
       "description_tooltip": null,
       "layout": "IPY_MODEL_d83600fcede346a3af964323f3c388d3",
       "max": 845731.0,
       "min": 0.0,
       "orientation": "horizontal",
       "style": "IPY_MODEL_7669fb2c77cf4d49afa94e3caec263b7",
       "value": 845731.0
      }
     },
     "f16f72a63a78406bbff646843aede908": {
      "model_module": "@jupyter-widgets/controls",
      "model_module_version": "1.5.0",
      "model_name": "DescriptionStyleModel",
      "state": {
       "_model_module": "@jupyter-widgets/controls",
       "_model_module_version": "1.5.0",
       "_model_name": "DescriptionStyleModel",
       "_view_count": null,
       "_view_module": "@jupyter-widgets/base",
       "_view_module_version": "1.2.0",
       "_view_name": "StyleView",
       "description_width": ""
      }
     },
     "f38b7b8416c64a558607ca68cc5ed4be": {
      "model_module": "@jupyter-widgets/controls",
      "model_module_version": "1.5.0",
      "model_name": "HBoxModel",
      "state": {
       "_dom_classes": [],
       "_model_module": "@jupyter-widgets/controls",
       "_model_module_version": "1.5.0",
       "_model_name": "HBoxModel",
       "_view_count": null,
       "_view_module": "@jupyter-widgets/controls",
       "_view_module_version": "1.5.0",
       "_view_name": "HBoxView",
       "box_style": "",
       "children": [
        "IPY_MODEL_76736770a30043d4a1d4510a0854aab2",
        "IPY_MODEL_1726e4a767ae468592f384844f21fa06",
        "IPY_MODEL_ba451953e8e14dd2b26243baf6b5d1db"
       ],
       "layout": "IPY_MODEL_bc446535a5f441bd8f60609090f0c692"
      }
     },
     "f62eb52857b540ba979dc8d688cd90d6": {
      "model_module": "@jupyter-widgets/controls",
      "model_module_version": "1.5.0",
      "model_name": "HTMLModel",
      "state": {
       "_dom_classes": [],
       "_model_module": "@jupyter-widgets/controls",
       "_model_module_version": "1.5.0",
       "_model_name": "HTMLModel",
       "_view_count": null,
       "_view_module": "@jupyter-widgets/controls",
       "_view_module_version": "1.5.0",
       "_view_name": "HTMLView",
       "description": "",
       "description_tooltip": null,
       "layout": "IPY_MODEL_91e8612cbd0a412abc9a22e90879fb2e",
       "placeholder": "​",
       "style": "IPY_MODEL_a93435c9fda5436b8a1b140efe2a709f",
       "value": "Downloading: 100%"
      }
     },
     "ff50c010dc594fec885b1dd926d8156e": {
      "model_module": "@jupyter-widgets/base",
      "model_module_version": "1.2.0",
      "model_name": "LayoutModel",
      "state": {
       "_model_module": "@jupyter-widgets/base",
       "_model_module_version": "1.2.0",
       "_model_name": "LayoutModel",
       "_view_count": null,
       "_view_module": "@jupyter-widgets/base",
       "_view_module_version": "1.2.0",
       "_view_name": "LayoutView",
       "align_content": null,
       "align_items": null,
       "align_self": null,
       "border": null,
       "bottom": null,
       "display": null,
       "flex": null,
       "flex_flow": null,
       "grid_area": null,
       "grid_auto_columns": null,
       "grid_auto_flow": null,
       "grid_auto_rows": null,
       "grid_column": null,
       "grid_gap": null,
       "grid_row": null,
       "grid_template_areas": null,
       "grid_template_columns": null,
       "grid_template_rows": null,
       "height": null,
       "justify_content": null,
       "justify_items": null,
       "left": null,
       "margin": null,
       "max_height": null,
       "max_width": null,
       "min_height": null,
       "min_width": null,
       "object_fit": null,
       "object_position": null,
       "order": null,
       "overflow": null,
       "overflow_x": null,
       "overflow_y": null,
       "padding": null,
       "right": null,
       "top": null,
       "visibility": null,
       "width": null
      }
     }
    },
    "version_major": 2,
    "version_minor": 0
   }
  }
 },
 "nbformat": 4,
 "nbformat_minor": 5
}
